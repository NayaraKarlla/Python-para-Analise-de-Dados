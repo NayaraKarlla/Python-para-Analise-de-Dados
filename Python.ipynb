{
  "nbformat": 4,
  "nbformat_minor": 0,
  "metadata": {
    "colab": {
      "provenance": [],
      "authorship_tag": "ABX9TyOQLdy3uTp1wNATi5eIx/9t",
      "include_colab_link": true
    },
    "kernelspec": {
      "name": "python3",
      "display_name": "Python 3"
    },
    "language_info": {
      "name": "python"
    }
  },
  "cells": [
    {
      "cell_type": "markdown",
      "metadata": {
        "id": "view-in-github",
        "colab_type": "text"
      },
      "source": [
        "<a href=\"https://colab.research.google.com/github/NayaraKarlla/Python-para-Analise-de-Dados/blob/main/Python.ipynb\" target=\"_parent\"><img src=\"https://colab.research.google.com/assets/colab-badge.svg\" alt=\"Open In Colab\"/></a>"
      ]
    },
    {
      "cell_type": "markdown",
      "source": [
        "# Python para Análise de Dados - Xperiun\n",
        "\n",
        "##Variáveis e atribuições\n",
        "- Em Python o nome da variável pode começas com letra ou _ e não pode começar com número."
      ],
      "metadata": {
        "id": "NFPqelQxNRH_"
      }
    },
    {
      "cell_type": "code",
      "source": [
        "x = 1\n",
        "\n",
        "print (x)"
      ],
      "metadata": {
        "colab": {
          "base_uri": "https://localhost:8080/"
        },
        "id": "tmRdBUYvNUR2",
        "outputId": "eb8a7a2e-150c-4dcd-b54d-f0c749da8009"
      },
      "execution_count": null,
      "outputs": [
        {
          "output_type": "stream",
          "name": "stdout",
          "text": [
            "1\n"
          ]
        }
      ]
    },
    {
      "cell_type": "code",
      "source": [
        "x = 1"
      ],
      "metadata": {
        "id": "Pf1NwmbZN0Hw"
      },
      "execution_count": null,
      "outputs": []
    },
    {
      "cell_type": "code",
      "source": [
        "print (x)"
      ],
      "metadata": {
        "colab": {
          "base_uri": "https://localhost:8080/"
        },
        "id": "q7fqPkLcN47G",
        "outputId": "e83650c6-b3d0-466d-9622-76e2e026c781"
      },
      "execution_count": null,
      "outputs": [
        {
          "output_type": "stream",
          "name": "stdout",
          "text": [
            "1\n"
          ]
        }
      ]
    },
    {
      "cell_type": "code",
      "source": [
        "type (x)"
      ],
      "metadata": {
        "colab": {
          "base_uri": "https://localhost:8080/"
        },
        "id": "bw0zx2BwOQ7d",
        "outputId": "4fb23aaa-b6fd-48be-80e0-2d10b5bfadea"
      },
      "execution_count": null,
      "outputs": [
        {
          "output_type": "execute_result",
          "data": {
            "text/plain": [
              "int"
            ]
          },
          "metadata": {},
          "execution_count": 3
        }
      ]
    },
    {
      "cell_type": "code",
      "source": [
        "nome = \"Let's Data\"\n",
        "\n",
        "print (nome)"
      ],
      "metadata": {
        "colab": {
          "base_uri": "https://localhost:8080/"
        },
        "id": "PD80KoIqOeEd",
        "outputId": "bba6ad41-32c5-4c96-e82b-c72978c3b688"
      },
      "execution_count": null,
      "outputs": [
        {
          "output_type": "stream",
          "name": "stdout",
          "text": [
            "Let's Data\n"
          ]
        }
      ]
    },
    {
      "cell_type": "code",
      "source": [
        "nome # não precisa colocar print pois o noteboook já sabe que é a variável"
      ],
      "metadata": {
        "colab": {
          "base_uri": "https://localhost:8080/",
          "height": 35
        },
        "id": "qORJpcHCOt1U",
        "outputId": "a6c7695a-21dc-4e1a-edc3-f545d4a6ec7d"
      },
      "execution_count": null,
      "outputs": [
        {
          "output_type": "execute_result",
          "data": {
            "text/plain": [
              "\"Let's Data\""
            ],
            "application/vnd.google.colaboratory.intrinsic+json": {
              "type": "string"
            }
          },
          "metadata": {},
          "execution_count": 5
        }
      ]
    },
    {
      "cell_type": "code",
      "source": [
        "type (nome) # essa variável é do tipo string, no python não precisa colocar o tipo da variável pois ele já reconhece"
      ],
      "metadata": {
        "colab": {
          "base_uri": "https://localhost:8080/"
        },
        "id": "w-lwWnuiPsuh",
        "outputId": "a113b9e0-6dc7-4126-c0bb-b34654f658c4"
      },
      "execution_count": null,
      "outputs": [
        {
          "output_type": "execute_result",
          "data": {
            "text/plain": [
              "str"
            ]
          },
          "metadata": {},
          "execution_count": 8
        }
      ]
    },
    {
      "cell_type": "code",
      "source": [
        "a, b = 4, \"teste\" # aqui é uma atribuição dupla\n",
        "\n",
        "print (a)\n",
        "print (b)"
      ],
      "metadata": {
        "colab": {
          "base_uri": "https://localhost:8080/"
        },
        "id": "mYkmxasOQOyZ",
        "outputId": "63159c42-2859-44b9-f573-13c28c21d23c"
      },
      "execution_count": null,
      "outputs": [
        {
          "output_type": "stream",
          "name": "stdout",
          "text": [
            "4\n",
            "teste\n"
          ]
        }
      ]
    },
    {
      "cell_type": "markdown",
      "source": [
        "##Tipos essenciais"
      ],
      "metadata": {
        "id": "e9SJsMGKUWOf"
      }
    },
    {
      "cell_type": "markdown",
      "source": [
        "##inteiro - int\n",
        "\n"
      ],
      "metadata": {
        "id": "KAiwvv_OUwc9"
      }
    },
    {
      "cell_type": "code",
      "source": [
        "x = 3\n",
        "\n",
        "type (x)"
      ],
      "metadata": {
        "colab": {
          "base_uri": "https://localhost:8080/"
        },
        "id": "077dW0cRVR-M",
        "outputId": "347430af-8c2e-4b46-fe95-1fc5b2960ad6"
      },
      "execution_count": null,
      "outputs": [
        {
          "output_type": "execute_result",
          "data": {
            "text/plain": [
              "int"
            ]
          },
          "metadata": {},
          "execution_count": 13
        }
      ]
    },
    {
      "cell_type": "markdown",
      "source": [
        "## texto - string (str)"
      ],
      "metadata": {
        "id": "p6qPf2iCVl9h"
      }
    },
    {
      "cell_type": "code",
      "source": [
        "x = 'algum texto'"
      ],
      "metadata": {
        "id": "JMd_DyGfVs23"
      },
      "execution_count": null,
      "outputs": []
    },
    {
      "cell_type": "code",
      "source": [
        "type (x)"
      ],
      "metadata": {
        "colab": {
          "base_uri": "https://localhost:8080/"
        },
        "id": "tjzRMbRWVx32",
        "outputId": "5720000d-4188-40bf-8b31-4eb5529a8e6c"
      },
      "execution_count": null,
      "outputs": [
        {
          "output_type": "execute_result",
          "data": {
            "text/plain": [
              "str"
            ]
          },
          "metadata": {},
          "execution_count": 15
        }
      ]
    },
    {
      "cell_type": "code",
      "source": [
        "x"
      ],
      "metadata": {
        "colab": {
          "base_uri": "https://localhost:8080/",
          "height": 35
        },
        "id": "GE5VQ2EXV6lS",
        "outputId": "f729d987-4458-4b11-d52f-8f01de31f455"
      },
      "execution_count": null,
      "outputs": [
        {
          "output_type": "execute_result",
          "data": {
            "text/plain": [
              "'algum texto'"
            ],
            "application/vnd.google.colaboratory.intrinsic+json": {
              "type": "string"
            }
          },
          "metadata": {},
          "execution_count": 16
        }
      ]
    },
    {
      "cell_type": "code",
      "source": [
        "x = \"outro texto\""
      ],
      "metadata": {
        "id": "GFtY4iOdWIHg"
      },
      "execution_count": null,
      "outputs": []
    },
    {
      "cell_type": "code",
      "source": [
        "print (type (x))\n",
        "print (x)"
      ],
      "metadata": {
        "colab": {
          "base_uri": "https://localhost:8080/"
        },
        "id": "P_NjYNb_WezQ",
        "outputId": "6fb3fdfc-0c83-49f5-fddd-346d7923ff89"
      },
      "execution_count": null,
      "outputs": [
        {
          "output_type": "stream",
          "name": "stdout",
          "text": [
            "<class 'str'>\n",
            "outro texto\n"
          ]
        }
      ]
    },
    {
      "cell_type": "markdown",
      "source": [
        "##lógico booleano - bool"
      ],
      "metadata": {
        "id": "c8euqN7LXoyx"
      }
    },
    {
      "cell_type": "code",
      "source": [
        "x = True # maiscúla, cuidado!"
      ],
      "metadata": {
        "id": "6nzwHLoQXt6P"
      },
      "execution_count": null,
      "outputs": []
    },
    {
      "cell_type": "code",
      "source": [
        "type (x)"
      ],
      "metadata": {
        "colab": {
          "base_uri": "https://localhost:8080/"
        },
        "id": "yBfD8-vBX84_",
        "outputId": "6807fe4f-bad2-4433-ba39-cdea43b74799"
      },
      "execution_count": null,
      "outputs": [
        {
          "output_type": "execute_result",
          "data": {
            "text/plain": [
              "bool"
            ]
          },
          "metadata": {},
          "execution_count": 20
        }
      ]
    },
    {
      "cell_type": "code",
      "source": [
        "x"
      ],
      "metadata": {
        "colab": {
          "base_uri": "https://localhost:8080/"
        },
        "id": "HaoJ15L8YCOq",
        "outputId": "563a81e0-8418-449d-c0fa-79b46fb916d2"
      },
      "execution_count": null,
      "outputs": [
        {
          "output_type": "execute_result",
          "data": {
            "text/plain": [
              "True"
            ]
          },
          "metadata": {},
          "execution_count": 21
        }
      ]
    },
    {
      "cell_type": "markdown",
      "source": [
        "##número real (fracionário) - float"
      ],
      "metadata": {
        "id": "NysOuWb2eADX"
      }
    },
    {
      "cell_type": "code",
      "source": [
        "x = 2.1\n",
        "\n",
        "type (x)"
      ],
      "metadata": {
        "colab": {
          "base_uri": "https://localhost:8080/"
        },
        "id": "nEhKB95beIgU",
        "outputId": "23225898-b72f-4069-b246-884b734d0fd8"
      },
      "execution_count": null,
      "outputs": [
        {
          "output_type": "execute_result",
          "data": {
            "text/plain": [
              "float"
            ]
          },
          "metadata": {},
          "execution_count": 23
        }
      ]
    },
    {
      "cell_type": "code",
      "source": [
        "y = .725 # quando começar com zero não precisa colocá-lo\n",
        "\n",
        "type (x)"
      ],
      "metadata": {
        "colab": {
          "base_uri": "https://localhost:8080/"
        },
        "id": "GyweneNpePIx",
        "outputId": "ebdc36f2-13fd-4e4d-b0b3-0e2f6945c319"
      },
      "execution_count": null,
      "outputs": [
        {
          "output_type": "execute_result",
          "data": {
            "text/plain": [
              "float"
            ]
          },
          "metadata": {},
          "execution_count": 25
        }
      ]
    },
    {
      "cell_type": "code",
      "source": [
        "x = 2. ** 3 # aqui é 2^3\n",
        "\n",
        "type (x)\n"
      ],
      "metadata": {
        "colab": {
          "base_uri": "https://localhost:8080/"
        },
        "id": "9CcyIPGmgZ-w",
        "outputId": "66796b2e-7427-4be5-d315-48c04a254a2a"
      },
      "execution_count": null,
      "outputs": [
        {
          "output_type": "execute_result",
          "data": {
            "text/plain": [
              "float"
            ]
          },
          "metadata": {},
          "execution_count": 26
        }
      ]
    },
    {
      "cell_type": "code",
      "source": [
        "x = 2e3 # é a mesma coisa que 2 * 10 ** 3 # 2e3 é considerado um float mas 2 * 10 **3 é considerado inteiro"
      ],
      "metadata": {
        "id": "AWUcCpPig0uf"
      },
      "execution_count": null,
      "outputs": []
    },
    {
      "cell_type": "code",
      "source": [
        "type (x)"
      ],
      "metadata": {
        "colab": {
          "base_uri": "https://localhost:8080/"
        },
        "id": "3SyrHikBhUDY",
        "outputId": "69e5bbee-59ec-43b5-ea53-984d7654c348"
      },
      "execution_count": null,
      "outputs": [
        {
          "output_type": "execute_result",
          "data": {
            "text/plain": [
              "float"
            ]
          },
          "metadata": {},
          "execution_count": 28
        }
      ]
    },
    {
      "cell_type": "code",
      "source": [
        "print (x)\n"
      ],
      "metadata": {
        "colab": {
          "base_uri": "https://localhost:8080/"
        },
        "id": "uSF2dBJQhXM1",
        "outputId": "d853e1ab-dca6-4c0c-f7e2-1503833404a8"
      },
      "execution_count": null,
      "outputs": [
        {
          "output_type": "stream",
          "name": "stdout",
          "text": [
            "2000.0\n"
          ]
        }
      ]
    },
    {
      "cell_type": "markdown",
      "source": [
        "##Conversões de tipos"
      ],
      "metadata": {
        "id": "NWq-JpVkiKDc"
      }
    },
    {
      "cell_type": "code",
      "source": [
        "x = 3\n",
        "\n",
        "print (type (x))"
      ],
      "metadata": {
        "colab": {
          "base_uri": "https://localhost:8080/"
        },
        "id": "IWzZTComiO6G",
        "outputId": "77260e54-cac1-46aa-e490-3694737e11bd"
      },
      "execution_count": null,
      "outputs": [
        {
          "output_type": "stream",
          "name": "stdout",
          "text": [
            "<class 'int'>\n"
          ]
        }
      ]
    },
    {
      "cell_type": "code",
      "source": [
        "print (x)"
      ],
      "metadata": {
        "colab": {
          "base_uri": "https://localhost:8080/"
        },
        "id": "iXxHGdrNicR5",
        "outputId": "c36c5dbd-d6a4-4098-ccb7-b380ce0a0646"
      },
      "execution_count": null,
      "outputs": [
        {
          "output_type": "stream",
          "name": "stdout",
          "text": [
            "3\n"
          ]
        }
      ]
    },
    {
      "cell_type": "code",
      "source": [
        "x = float (x) # aqui é a forma para converter para float\n",
        "\n",
        "type (x)"
      ],
      "metadata": {
        "colab": {
          "base_uri": "https://localhost:8080/"
        },
        "id": "Cuqo-a3gimKb",
        "outputId": "07bde49f-bba8-4b84-97f6-9c4448d68cf5"
      },
      "execution_count": null,
      "outputs": [
        {
          "output_type": "execute_result",
          "data": {
            "text/plain": [
              "float"
            ]
          },
          "metadata": {},
          "execution_count": 133
        }
      ]
    },
    {
      "cell_type": "code",
      "source": [
        "print (x)"
      ],
      "metadata": {
        "colab": {
          "base_uri": "https://localhost:8080/"
        },
        "id": "H4c3MFWRi0S6",
        "outputId": "d49d7a5e-f8f8-451f-92f9-b652cb7895c0"
      },
      "execution_count": null,
      "outputs": [
        {
          "output_type": "stream",
          "name": "stdout",
          "text": [
            "3.0\n"
          ]
        }
      ]
    },
    {
      "cell_type": "code",
      "source": [
        "y = \"2\"\n",
        "\n",
        "print (type (y))"
      ],
      "metadata": {
        "colab": {
          "base_uri": "https://localhost:8080/"
        },
        "id": "GkDtiLNojCFJ",
        "outputId": "9e909902-2ada-4061-fe87-094982e7afa5"
      },
      "execution_count": null,
      "outputs": [
        {
          "output_type": "stream",
          "name": "stdout",
          "text": [
            "<class 'str'>\n"
          ]
        }
      ]
    },
    {
      "cell_type": "code",
      "source": [
        "y"
      ],
      "metadata": {
        "colab": {
          "base_uri": "https://localhost:8080/",
          "height": 35
        },
        "id": "Js8UWv5QjL0J",
        "outputId": "11bfdefe-13a6-4fa5-f7d7-14c9d7b8acf8"
      },
      "execution_count": null,
      "outputs": [
        {
          "output_type": "execute_result",
          "data": {
            "text/plain": [
              "'2'"
            ],
            "application/vnd.google.colaboratory.intrinsic+json": {
              "type": "string"
            }
          },
          "metadata": {},
          "execution_count": 136
        }
      ]
    },
    {
      "cell_type": "code",
      "source": [
        "type (y)"
      ],
      "metadata": {
        "colab": {
          "base_uri": "https://localhost:8080/"
        },
        "id": "7-IbnU46oEMt",
        "outputId": "9ea57925-db72-41ea-9c28-f4c168436928"
      },
      "execution_count": null,
      "outputs": [
        {
          "output_type": "execute_result",
          "data": {
            "text/plain": [
              "str"
            ]
          },
          "metadata": {},
          "execution_count": 137
        }
      ]
    },
    {
      "cell_type": "code",
      "source": [
        "y = int (y) # convertendo o y para inteiro\n",
        "\n",
        "type (y)"
      ],
      "metadata": {
        "colab": {
          "base_uri": "https://localhost:8080/"
        },
        "id": "jyWihmqVoKng",
        "outputId": "33eb25a7-fe7c-4f37-86a6-61ab0b14aa91"
      },
      "execution_count": null,
      "outputs": [
        {
          "output_type": "execute_result",
          "data": {
            "text/plain": [
              "int"
            ]
          },
          "metadata": {},
          "execution_count": 138
        }
      ]
    },
    {
      "cell_type": "code",
      "source": [
        "y"
      ],
      "metadata": {
        "colab": {
          "base_uri": "https://localhost:8080/"
        },
        "id": "VCzhke-boXSY",
        "outputId": "9398a46b-d070-4190-902e-84ca4d345453"
      },
      "execution_count": null,
      "outputs": [
        {
          "output_type": "execute_result",
          "data": {
            "text/plain": [
              "2"
            ]
          },
          "metadata": {},
          "execution_count": 139
        }
      ]
    },
    {
      "cell_type": "code",
      "source": [
        "y = float (y) # convertendo o y para float\n",
        "\n",
        "type (y)"
      ],
      "metadata": {
        "colab": {
          "base_uri": "https://localhost:8080/"
        },
        "id": "4wtZmvYnodny",
        "outputId": "ddd1feeb-aedb-48be-9b2c-1d5af1b467a1"
      },
      "execution_count": null,
      "outputs": [
        {
          "output_type": "execute_result",
          "data": {
            "text/plain": [
              "float"
            ]
          },
          "metadata": {},
          "execution_count": 140
        }
      ]
    },
    {
      "cell_type": "code",
      "source": [
        "y"
      ],
      "metadata": {
        "colab": {
          "base_uri": "https://localhost:8080/"
        },
        "id": "TxG3kKOaopFf",
        "outputId": "71b91577-1bc7-4638-d6e2-7ea396a97d09"
      },
      "execution_count": null,
      "outputs": [
        {
          "output_type": "execute_result",
          "data": {
            "text/plain": [
              "2.0"
            ]
          },
          "metadata": {},
          "execution_count": 141
        }
      ]
    },
    {
      "cell_type": "code",
      "source": [
        "y = float (y)\n",
        "\n",
        "type (y)"
      ],
      "metadata": {
        "colab": {
          "base_uri": "https://localhost:8080/"
        },
        "id": "Qoq8fnn9pvn8",
        "outputId": "bda3a572-d216-4309-bf41-8b2c22bb8d8c"
      },
      "execution_count": null,
      "outputs": [
        {
          "output_type": "execute_result",
          "data": {
            "text/plain": [
              "float"
            ]
          },
          "metadata": {},
          "execution_count": 49
        }
      ]
    },
    {
      "cell_type": "code",
      "source": [
        "y"
      ],
      "metadata": {
        "colab": {
          "base_uri": "https://localhost:8080/"
        },
        "id": "-082uahgp3a9",
        "outputId": "1ba9d2f7-2c3e-44e1-e91e-655afcd94bbe"
      },
      "execution_count": null,
      "outputs": [
        {
          "output_type": "execute_result",
          "data": {
            "text/plain": [
              "2.0"
            ]
          },
          "metadata": {},
          "execution_count": 50
        }
      ]
    },
    {
      "cell_type": "code",
      "source": [
        "y = bool ('2')\n",
        "\n",
        "type (y)"
      ],
      "metadata": {
        "colab": {
          "base_uri": "https://localhost:8080/"
        },
        "id": "3fwkhUpIqFQD",
        "outputId": "ad74fec6-79b8-427b-ff79-e51c7212ccf5"
      },
      "execution_count": null,
      "outputs": [
        {
          "output_type": "execute_result",
          "data": {
            "text/plain": [
              "bool"
            ]
          },
          "metadata": {},
          "execution_count": 66
        }
      ]
    },
    {
      "cell_type": "code",
      "source": [
        "y"
      ],
      "metadata": {
        "colab": {
          "base_uri": "https://localhost:8080/"
        },
        "id": "m5b5QWhTqLcd",
        "outputId": "a61c4597-3260-4cc2-b5c6-ead18d11c762"
      },
      "execution_count": null,
      "outputs": [
        {
          "output_type": "execute_result",
          "data": {
            "text/plain": [
              "True"
            ]
          },
          "metadata": {},
          "execution_count": 67
        }
      ]
    },
    {
      "cell_type": "code",
      "source": [
        "y = bool (0)\n",
        "\n",
        "print (type(y))"
      ],
      "metadata": {
        "colab": {
          "base_uri": "https://localhost:8080/"
        },
        "id": "EoRLruN6qcWs",
        "outputId": "143c7113-fa8d-428b-9adb-1320bb5e6224"
      },
      "execution_count": null,
      "outputs": [
        {
          "output_type": "stream",
          "name": "stdout",
          "text": [
            "<class 'bool'>\n"
          ]
        }
      ]
    },
    {
      "cell_type": "code",
      "source": [
        "print (y)"
      ],
      "metadata": {
        "colab": {
          "base_uri": "https://localhost:8080/"
        },
        "id": "3LM-VrCqqokx",
        "outputId": "3ab6b4d8-e6ba-4e7d-ab90-2a57d0b8c1b4"
      },
      "execution_count": null,
      "outputs": [
        {
          "output_type": "stream",
          "name": "stdout",
          "text": [
            "False\n"
          ]
        }
      ]
    },
    {
      "cell_type": "code",
      "source": [
        "y = bool (None)\n",
        "\n",
        "print (type(y))"
      ],
      "metadata": {
        "colab": {
          "base_uri": "https://localhost:8080/"
        },
        "id": "wyUKBMThq1Dq",
        "outputId": "65a293a6-afab-445f-d45f-2a7dc396535f"
      },
      "execution_count": null,
      "outputs": [
        {
          "output_type": "stream",
          "name": "stdout",
          "text": [
            "<class 'bool'>\n"
          ]
        }
      ]
    },
    {
      "cell_type": "code",
      "source": [
        "print (y)"
      ],
      "metadata": {
        "colab": {
          "base_uri": "https://localhost:8080/"
        },
        "id": "ncUYj1eCq6jL",
        "outputId": "fb3a54e1-e226-4ca0-badd-e1b00ada972a"
      },
      "execution_count": null,
      "outputs": [
        {
          "output_type": "stream",
          "name": "stdout",
          "text": [
            "False\n"
          ]
        }
      ]
    },
    {
      "cell_type": "code",
      "source": [
        "y = bool ('')\n",
        "\n",
        "print (type(y))"
      ],
      "metadata": {
        "colab": {
          "base_uri": "https://localhost:8080/"
        },
        "id": "5Io5gDOVraHB",
        "outputId": "bed3b7de-9f58-4fc9-fdb8-b61d08f94e8d"
      },
      "execution_count": null,
      "outputs": [
        {
          "output_type": "stream",
          "name": "stdout",
          "text": [
            "<class 'bool'>\n"
          ]
        }
      ]
    },
    {
      "cell_type": "code",
      "source": [
        "print (y)"
      ],
      "metadata": {
        "colab": {
          "base_uri": "https://localhost:8080/"
        },
        "id": "GSLoAuW0ri-H",
        "outputId": "467befeb-3209-470b-9002-918f8a1e5730"
      },
      "execution_count": null,
      "outputs": [
        {
          "output_type": "stream",
          "name": "stdout",
          "text": [
            "False\n"
          ]
        }
      ]
    },
    {
      "cell_type": "code",
      "source": [
        "y = int ('2.3') # aqui é uma string literal sendo transformada em inteiro, não dá certo, por isso o erro apresentado"
      ],
      "metadata": {
        "colab": {
          "base_uri": "https://localhost:8080/",
          "height": 158
        },
        "id": "GKkR1P6krzTY",
        "outputId": "98df19dd-c597-45fd-89d5-f66edbd30d24"
      },
      "execution_count": null,
      "outputs": [
        {
          "output_type": "error",
          "ename": "ValueError",
          "evalue": "invalid literal for int() with base 10: '2.3'",
          "traceback": [
            "\u001b[0;31m---------------------------------------------------------------------------\u001b[0m",
            "\u001b[0;31mValueError\u001b[0m                                Traceback (most recent call last)",
            "\u001b[0;32m<ipython-input-75-04da3c0590bf>\u001b[0m in \u001b[0;36m<cell line: 0>\u001b[0;34m()\u001b[0m\n\u001b[0;32m----> 1\u001b[0;31m \u001b[0my\u001b[0m \u001b[0;34m=\u001b[0m \u001b[0mint\u001b[0m \u001b[0;34m(\u001b[0m\u001b[0;34m'2.3'\u001b[0m\u001b[0;34m)\u001b[0m \u001b[0;31m# aqui é uma string literal sendo transformada em inteiro, não dá certo por isso o erro apresentado\u001b[0m\u001b[0;34m\u001b[0m\u001b[0;34m\u001b[0m\u001b[0m\n\u001b[0m",
            "\u001b[0;31mValueError\u001b[0m: invalid literal for int() with base 10: '2.3'"
          ]
        }
      ]
    },
    {
      "cell_type": "code",
      "source": [
        "y = float ('2.3')\n",
        "\n",
        "y"
      ],
      "metadata": {
        "colab": {
          "base_uri": "https://localhost:8080/"
        },
        "id": "gb3shN3tsGr2",
        "outputId": "bf357cd2-a5c8-42b2-e7c2-24e57264aaea"
      },
      "execution_count": null,
      "outputs": [
        {
          "output_type": "execute_result",
          "data": {
            "text/plain": [
              "2.3"
            ]
          },
          "metadata": {},
          "execution_count": 78
        }
      ]
    },
    {
      "cell_type": "code",
      "source": [
        "y = int ('x') # não funciona essa conversão"
      ],
      "metadata": {
        "colab": {
          "base_uri": "https://localhost:8080/",
          "height": 141
        },
        "id": "WnD0YBCAsYAG",
        "outputId": "06c78e9d-4644-47be-bf61-2fe9338c308e"
      },
      "execution_count": null,
      "outputs": [
        {
          "output_type": "error",
          "ename": "ValueError",
          "evalue": "invalid literal for int() with base 10: 'x'",
          "traceback": [
            "\u001b[0;31m---------------------------------------------------------------------------\u001b[0m",
            "\u001b[0;31mValueError\u001b[0m                                Traceback (most recent call last)",
            "\u001b[0;32m<ipython-input-79-bd99241cbee6>\u001b[0m in \u001b[0;36m<cell line: 0>\u001b[0;34m()\u001b[0m\n\u001b[0;32m----> 1\u001b[0;31m \u001b[0my\u001b[0m \u001b[0;34m=\u001b[0m \u001b[0mint\u001b[0m \u001b[0;34m(\u001b[0m\u001b[0;34m'x'\u001b[0m\u001b[0;34m)\u001b[0m\u001b[0;34m\u001b[0m\u001b[0;34m\u001b[0m\u001b[0m\n\u001b[0m",
            "\u001b[0;31mValueError\u001b[0m: invalid literal for int() with base 10: 'x'"
          ]
        }
      ]
    },
    {
      "cell_type": "code",
      "source": [
        "y = float ('x') # não funciona essa conversão"
      ],
      "metadata": {
        "colab": {
          "base_uri": "https://localhost:8080/",
          "height": 141
        },
        "id": "g6nf6PAosmjW",
        "outputId": "851583ad-9432-437d-c14d-4b595235377a"
      },
      "execution_count": null,
      "outputs": [
        {
          "output_type": "error",
          "ename": "ValueError",
          "evalue": "could not convert string to float: 'x'",
          "traceback": [
            "\u001b[0;31m---------------------------------------------------------------------------\u001b[0m",
            "\u001b[0;31mValueError\u001b[0m                                Traceback (most recent call last)",
            "\u001b[0;32m<ipython-input-80-008ca937e494>\u001b[0m in \u001b[0;36m<cell line: 0>\u001b[0;34m()\u001b[0m\n\u001b[0;32m----> 1\u001b[0;31m \u001b[0my\u001b[0m \u001b[0;34m=\u001b[0m \u001b[0mfloat\u001b[0m \u001b[0;34m(\u001b[0m\u001b[0;34m'x'\u001b[0m\u001b[0;34m)\u001b[0m \u001b[0;31m# não funciona essa conversão\u001b[0m\u001b[0;34m\u001b[0m\u001b[0;34m\u001b[0m\u001b[0m\n\u001b[0m",
            "\u001b[0;31mValueError\u001b[0m: could not convert string to float: 'x'"
          ]
        }
      ]
    },
    {
      "cell_type": "code",
      "source": [
        "y = float ('.1') #string sendo transformada em float\n",
        "\n",
        "print(type (y))\n",
        "print (y)"
      ],
      "metadata": {
        "colab": {
          "base_uri": "https://localhost:8080/"
        },
        "id": "jts6-xJ1swCE",
        "outputId": "19294e75-5f94-404a-b74c-297de4746693"
      },
      "execution_count": null,
      "outputs": [
        {
          "output_type": "stream",
          "name": "stdout",
          "text": [
            "<class 'float'>\n",
            "0.1\n"
          ]
        }
      ]
    },
    {
      "cell_type": "markdown",
      "source": [
        "#Operação básicas"
      ],
      "metadata": {
        "id": "3n3fB9Rl3-1R"
      }
    },
    {
      "cell_type": "markdown",
      "source": [
        "Adição: a + b\n",
        "\n",
        "Subtração: a - b\n",
        "\n",
        "Multiplicação: a * b\n",
        "\n",
        "Divisão: a / b\n"
      ],
      "metadata": {
        "id": "M4UX6h3L4d7h"
      }
    },
    {
      "cell_type": "code",
      "source": [
        "a = 5\n",
        "b = 3\n",
        "\n",
        "a + b"
      ],
      "metadata": {
        "colab": {
          "base_uri": "https://localhost:8080/"
        },
        "id": "iVBm6q5q4e4J",
        "outputId": "29e01ae5-1d73-4c4d-8bd8-66523971200b"
      },
      "execution_count": null,
      "outputs": [
        {
          "output_type": "execute_result",
          "data": {
            "text/plain": [
              "8"
            ]
          },
          "metadata": {},
          "execution_count": 83
        }
      ]
    },
    {
      "cell_type": "code",
      "source": [
        "a - b"
      ],
      "metadata": {
        "colab": {
          "base_uri": "https://localhost:8080/"
        },
        "id": "_wZMqQVw4zr_",
        "outputId": "533040c8-c5df-4595-b49a-19fe4ac1c3af"
      },
      "execution_count": null,
      "outputs": [
        {
          "output_type": "execute_result",
          "data": {
            "text/plain": [
              "2"
            ]
          },
          "metadata": {},
          "execution_count": 84
        }
      ]
    },
    {
      "cell_type": "code",
      "source": [
        "a * b"
      ],
      "metadata": {
        "colab": {
          "base_uri": "https://localhost:8080/"
        },
        "id": "PciaLTt949wy",
        "outputId": "452aba4e-006b-4c48-dc4c-e5a31b5e794c"
      },
      "execution_count": null,
      "outputs": [
        {
          "output_type": "execute_result",
          "data": {
            "text/plain": [
              "15"
            ]
          },
          "metadata": {},
          "execution_count": 85
        }
      ]
    },
    {
      "cell_type": "code",
      "source": [
        "a / b # divisão tipo float"
      ],
      "metadata": {
        "colab": {
          "base_uri": "https://localhost:8080/"
        },
        "id": "6ZNcjAjv5B1C",
        "outputId": "5d709ed2-7d25-4ee1-ea05-0b4c752a199a"
      },
      "execution_count": null,
      "outputs": [
        {
          "output_type": "execute_result",
          "data": {
            "text/plain": [
              "1.6666666666666667"
            ]
          },
          "metadata": {},
          "execution_count": 86
        }
      ]
    },
    {
      "cell_type": "markdown",
      "source": [
        "## Operações avançadas\n"
      ],
      "metadata": {
        "id": "Rk6kmh6k5I84"
      }
    },
    {
      "cell_type": "markdown",
      "source": [
        "Divisão inteira: a // b\n",
        "\n",
        "Módulo (resto da divisão) : a % b\n",
        "\n",
        "Exponenciação: a ** b\n",
        "\n",
        "Operações de comparação: ==, !=, <, <=, >, >="
      ],
      "metadata": {
        "id": "S0j_7J_Y5dBn"
      }
    },
    {
      "cell_type": "code",
      "source": [
        "a // b # dividsão inteira"
      ],
      "metadata": {
        "colab": {
          "base_uri": "https://localhost:8080/"
        },
        "id": "ucLG-J2d5yAJ",
        "outputId": "745b5b5c-44eb-43f3-9cce-5804df8996d3"
      },
      "execution_count": null,
      "outputs": [
        {
          "output_type": "execute_result",
          "data": {
            "text/plain": [
              "1"
            ]
          },
          "metadata": {},
          "execution_count": 87
        }
      ]
    },
    {
      "cell_type": "code",
      "source": [
        "type (a // b) # dividsão inteira"
      ],
      "metadata": {
        "colab": {
          "base_uri": "https://localhost:8080/"
        },
        "id": "eOcjLE8a6C6o",
        "outputId": "295faf63-5735-4f59-fe0a-8b7cd5eb0c23"
      },
      "execution_count": null,
      "outputs": [
        {
          "output_type": "execute_result",
          "data": {
            "text/plain": [
              "int"
            ]
          },
          "metadata": {},
          "execution_count": 88
        }
      ]
    },
    {
      "cell_type": "code",
      "source": [
        "a % b # resto da divisão inteira"
      ],
      "metadata": {
        "colab": {
          "base_uri": "https://localhost:8080/"
        },
        "id": "QbdeBULx6PwA",
        "outputId": "f6557415-e116-4072-ca9a-9e892dacccdc"
      },
      "execution_count": null,
      "outputs": [
        {
          "output_type": "execute_result",
          "data": {
            "text/plain": [
              "2"
            ]
          },
          "metadata": {},
          "execution_count": 89
        }
      ]
    },
    {
      "cell_type": "code",
      "source": [
        "a ** b"
      ],
      "metadata": {
        "colab": {
          "base_uri": "https://localhost:8080/"
        },
        "id": "qhvVogBR6g0V",
        "outputId": "7c5a96f2-8c23-400e-b0dc-93bd3e987309"
      },
      "execution_count": null,
      "outputs": [
        {
          "output_type": "execute_result",
          "data": {
            "text/plain": [
              "125"
            ]
          },
          "metadata": {},
          "execution_count": 90
        }
      ]
    },
    {
      "cell_type": "code",
      "source": [
        "a == b"
      ],
      "metadata": {
        "colab": {
          "base_uri": "https://localhost:8080/"
        },
        "id": "jBZF_Vfd6jEy",
        "outputId": "e5f3cee6-c01c-4bf1-e378-b7513374a6a5"
      },
      "execution_count": null,
      "outputs": [
        {
          "output_type": "execute_result",
          "data": {
            "text/plain": [
              "False"
            ]
          },
          "metadata": {},
          "execution_count": 91
        }
      ]
    },
    {
      "cell_type": "code",
      "source": [
        "a != b"
      ],
      "metadata": {
        "colab": {
          "base_uri": "https://localhost:8080/"
        },
        "id": "AE8Rmaqt6prl",
        "outputId": "06bad221-ccde-42d8-a14a-1ce253d9b25c"
      },
      "execution_count": null,
      "outputs": [
        {
          "output_type": "execute_result",
          "data": {
            "text/plain": [
              "True"
            ]
          },
          "metadata": {},
          "execution_count": 92
        }
      ]
    },
    {
      "cell_type": "code",
      "source": [
        "a < b"
      ],
      "metadata": {
        "colab": {
          "base_uri": "https://localhost:8080/"
        },
        "id": "ZcKHEOAL6s_1",
        "outputId": "f42b3d00-25c3-4054-e0df-05f8c64fb8db"
      },
      "execution_count": null,
      "outputs": [
        {
          "output_type": "execute_result",
          "data": {
            "text/plain": [
              "False"
            ]
          },
          "metadata": {},
          "execution_count": 93
        }
      ]
    },
    {
      "cell_type": "code",
      "source": [
        "a <= b"
      ],
      "metadata": {
        "colab": {
          "base_uri": "https://localhost:8080/"
        },
        "id": "AFZI7kF863fV",
        "outputId": "56b43d27-57eb-443a-a150-07e17794f867"
      },
      "execution_count": null,
      "outputs": [
        {
          "output_type": "execute_result",
          "data": {
            "text/plain": [
              "False"
            ]
          },
          "metadata": {},
          "execution_count": 94
        }
      ]
    },
    {
      "cell_type": "code",
      "source": [
        "a > b"
      ],
      "metadata": {
        "colab": {
          "base_uri": "https://localhost:8080/"
        },
        "id": "0FAJ9WKp65Ol",
        "outputId": "ece19a34-ca49-47de-8224-7248c9bcbdc2"
      },
      "execution_count": null,
      "outputs": [
        {
          "output_type": "execute_result",
          "data": {
            "text/plain": [
              "True"
            ]
          },
          "metadata": {},
          "execution_count": 95
        }
      ]
    },
    {
      "cell_type": "code",
      "source": [
        "a >= b"
      ],
      "metadata": {
        "colab": {
          "base_uri": "https://localhost:8080/"
        },
        "id": "w-stcMRa67V2",
        "outputId": "c7ccc5c4-7f4d-4598-fee1-347040572cad"
      },
      "execution_count": null,
      "outputs": [
        {
          "output_type": "execute_result",
          "data": {
            "text/plain": [
              "True"
            ]
          },
          "metadata": {},
          "execution_count": 96
        }
      ]
    },
    {
      "cell_type": "markdown",
      "source": [
        "##Tipos Compostos\n"
      ],
      "metadata": {
        "id": "7FEKTuiI-l5J"
      }
    },
    {
      "cell_type": "code",
      "source": [
        "x = list () # lista\n",
        "\n",
        "type (x)"
      ],
      "metadata": {
        "colab": {
          "base_uri": "https://localhost:8080/"
        },
        "id": "3hPXNuSl-pnG",
        "outputId": "e75dac80-cfb2-40cd-9df3-959432ed4172"
      },
      "execution_count": null,
      "outputs": [
        {
          "output_type": "execute_result",
          "data": {
            "text/plain": [
              "list"
            ]
          },
          "metadata": {},
          "execution_count": 97
        }
      ]
    },
    {
      "cell_type": "code",
      "source": [
        "x = set () # criando um conjunto\n",
        "\n",
        "type (x)"
      ],
      "metadata": {
        "colab": {
          "base_uri": "https://localhost:8080/"
        },
        "id": "foPXgPfR-zHG",
        "outputId": "8f760cf8-d9bb-45f6-8a11-43fdd95fce79"
      },
      "execution_count": null,
      "outputs": [
        {
          "output_type": "execute_result",
          "data": {
            "text/plain": [
              "set"
            ]
          },
          "metadata": {},
          "execution_count": 98
        }
      ]
    },
    {
      "cell_type": "code",
      "source": [
        "x = tuple () # tupla\n",
        "\n",
        "type (x)"
      ],
      "metadata": {
        "colab": {
          "base_uri": "https://localhost:8080/"
        },
        "id": "Ar91IpRU-5N_",
        "outputId": "2dc43a9c-46ae-4fe7-a0b2-9ccbd0d87638"
      },
      "execution_count": null,
      "outputs": [
        {
          "output_type": "execute_result",
          "data": {
            "text/plain": [
              "tuple"
            ]
          },
          "metadata": {},
          "execution_count": 99
        }
      ]
    },
    {
      "cell_type": "code",
      "source": [
        "x = dict () # dicionário\n",
        "\n",
        "type (x)"
      ],
      "metadata": {
        "colab": {
          "base_uri": "https://localhost:8080/"
        },
        "id": "nj0Eyxnf-_nG",
        "outputId": "720e6141-87d9-404e-ad85-269f6dff2544"
      },
      "execution_count": null,
      "outputs": [
        {
          "output_type": "execute_result",
          "data": {
            "text/plain": [
              "dict"
            ]
          },
          "metadata": {},
          "execution_count": 100
        }
      ]
    },
    {
      "cell_type": "code",
      "source": [
        "x = range (5) # intervalo\n",
        "\n",
        "type (x)"
      ],
      "metadata": {
        "colab": {
          "base_uri": "https://localhost:8080/"
        },
        "id": "BE6VQwd0_C7d",
        "outputId": "185f3e84-eab2-4933-bc71-db0538e1591a"
      },
      "execution_count": null,
      "outputs": [
        {
          "output_type": "execute_result",
          "data": {
            "text/plain": [
              "range"
            ]
          },
          "metadata": {},
          "execution_count": 102
        }
      ]
    },
    {
      "cell_type": "markdown",
      "source": [
        "## Tipos compostos - literais, na forma resumida"
      ],
      "metadata": {
        "id": "_dQv6g1q_UbN"
      }
    },
    {
      "cell_type": "code",
      "source": [
        "x= []  # quando passo um colchete vazio ou com número dentro, ele será do tipo lista\n",
        "\n",
        "type (x)"
      ],
      "metadata": {
        "colab": {
          "base_uri": "https://localhost:8080/"
        },
        "id": "vEjuSwg1AJdz",
        "outputId": "44678945-2bad-4df5-aba5-4e4e532e0de4"
      },
      "execution_count": null,
      "outputs": [
        {
          "output_type": "execute_result",
          "data": {
            "text/plain": [
              "list"
            ]
          },
          "metadata": {},
          "execution_count": 103
        }
      ]
    },
    {
      "cell_type": "code",
      "source": [
        "x = ()\n",
        "\n",
        "type (x)"
      ],
      "metadata": {
        "colab": {
          "base_uri": "https://localhost:8080/"
        },
        "id": "9WPHq9twAc06",
        "outputId": "93509d31-8d90-4295-de94-4b8cf2f648a1"
      },
      "execution_count": null,
      "outputs": [
        {
          "output_type": "execute_result",
          "data": {
            "text/plain": [
              "tuple"
            ]
          },
          "metadata": {},
          "execution_count": 104
        }
      ]
    },
    {
      "cell_type": "code",
      "source": [
        "x = {} # ao usar chaves cria - se um dicionário\n",
        "\n",
        "print(type (x))"
      ],
      "metadata": {
        "colab": {
          "base_uri": "https://localhost:8080/"
        },
        "id": "MAOsju8iFyCC",
        "outputId": "c97861dd-701d-4ac5-e5cd-55ef774c304c"
      },
      "execution_count": null,
      "outputs": [
        {
          "output_type": "stream",
          "name": "stdout",
          "text": [
            "<class 'dict'>\n"
          ]
        }
      ]
    },
    {
      "cell_type": "code",
      "source": [
        "x = {1} # ao usar chaves passando um valor, criar -se um conjunto\n",
        "\n",
        "print(type (x))"
      ],
      "metadata": {
        "id": "pqjnUrd-GCZQ"
      },
      "execution_count": null,
      "outputs": []
    },
    {
      "cell_type": "markdown",
      "source": [
        "##Listas"
      ],
      "metadata": {
        "id": "GfWNC3MiLDBP"
      }
    },
    {
      "cell_type": "code",
      "source": [
        "primeira_lista = [\"Let's Data\", 4,.2, False]\n",
        "\n",
        "type (primeira_lista)"
      ],
      "metadata": {
        "colab": {
          "base_uri": "https://localhost:8080/"
        },
        "id": "GuuDscKYGLK8",
        "outputId": "21e5adf7-7de5-4891-ed3f-a4dc09c59e5a"
      },
      "execution_count": null,
      "outputs": [
        {
          "output_type": "execute_result",
          "data": {
            "text/plain": [
              "list"
            ]
          },
          "metadata": {},
          "execution_count": 106
        }
      ]
    },
    {
      "cell_type": "code",
      "source": [
        "primeira_lista"
      ],
      "metadata": {
        "colab": {
          "base_uri": "https://localhost:8080/"
        },
        "id": "hAEMmvP8GMS8",
        "outputId": "0c5d3eef-d578-4b50-ea9f-85b9805ae139"
      },
      "execution_count": null,
      "outputs": [
        {
          "output_type": "execute_result",
          "data": {
            "text/plain": [
              "[\"Let's Data\", 4, 0.2, False]"
            ]
          },
          "metadata": {},
          "execution_count": 107
        }
      ]
    },
    {
      "cell_type": "code",
      "source": [
        "primeira_lista [0] # quando estamos contando desde o início, a contagem começa no 0 que é a primeira posição da lista, não esquecer disso"
      ],
      "metadata": {
        "colab": {
          "base_uri": "https://localhost:8080/",
          "height": 35
        },
        "id": "fLDoceAGGMus",
        "outputId": "22a8b14f-ffa4-458f-d3a6-dc5183951f71"
      },
      "execution_count": null,
      "outputs": [
        {
          "output_type": "execute_result",
          "data": {
            "text/plain": [
              "\"Let's Data\""
            ],
            "application/vnd.google.colaboratory.intrinsic+json": {
              "type": "string"
            }
          },
          "metadata": {},
          "execution_count": 111
        }
      ]
    },
    {
      "cell_type": "code",
      "source": [
        "primeira_lista [2]"
      ],
      "metadata": {
        "colab": {
          "base_uri": "https://localhost:8080/"
        },
        "id": "0KA2_ElnGNKU",
        "outputId": "0891526d-514b-41c0-de85-acdb90927b86"
      },
      "execution_count": null,
      "outputs": [
        {
          "output_type": "execute_result",
          "data": {
            "text/plain": [
              "0.2"
            ]
          },
          "metadata": {},
          "execution_count": 109
        }
      ]
    },
    {
      "cell_type": "code",
      "source": [
        "primeira_lista [-1] # pega o último elemento da lista"
      ],
      "metadata": {
        "colab": {
          "base_uri": "https://localhost:8080/"
        },
        "id": "lVv_rq_bLi0L",
        "outputId": "33aaa3c1-562e-4dc4-e468-610f167166ab"
      },
      "execution_count": null,
      "outputs": [
        {
          "output_type": "execute_result",
          "data": {
            "text/plain": [
              "False"
            ]
          },
          "metadata": {},
          "execution_count": 110
        }
      ]
    },
    {
      "cell_type": "code",
      "source": [
        "outra_lista = list () # outra forma de criar a lista\n",
        "\n",
        "type (outra_lista)"
      ],
      "metadata": {
        "colab": {
          "base_uri": "https://localhost:8080/"
        },
        "id": "9GUJOn1JL3Nb",
        "outputId": "4f6a0dea-24b2-439d-ae0a-1dfbdc58d8b3"
      },
      "execution_count": null,
      "outputs": [
        {
          "output_type": "execute_result",
          "data": {
            "text/plain": [
              "list"
            ]
          },
          "metadata": {},
          "execution_count": 112
        }
      ]
    },
    {
      "cell_type": "code",
      "source": [
        "outra_lista # aqui estamos conferindo se a lista está vazia"
      ],
      "metadata": {
        "colab": {
          "base_uri": "https://localhost:8080/"
        },
        "id": "zDcCTJDRMInq",
        "outputId": "eeb5188a-61a2-4896-d85b-b45089cfe01c"
      },
      "execution_count": null,
      "outputs": [
        {
          "output_type": "execute_result",
          "data": {
            "text/plain": [
              "[]"
            ]
          },
          "metadata": {},
          "execution_count": 113
        }
      ]
    },
    {
      "cell_type": "code",
      "source": [
        "outra_lista.append('algum elemento') # append é para incluir informação no final da lista\n",
        "\n",
        "outra_lista"
      ],
      "metadata": {
        "colab": {
          "base_uri": "https://localhost:8080/"
        },
        "id": "R-QDRvzqMQqp",
        "outputId": "1f8b739e-88de-4039-a165-4186f8350873"
      },
      "execution_count": null,
      "outputs": [
        {
          "output_type": "execute_result",
          "data": {
            "text/plain": [
              "['algum elemento']"
            ]
          },
          "metadata": {},
          "execution_count": 114
        }
      ]
    },
    {
      "cell_type": "code",
      "source": [
        "lista_com_elementos_repetidos = [1,1,1,1,1,1,1,1] # a lista pode ter elementos repetidos\n",
        "\n",
        "type(lista_com_elementos_repetidos)"
      ],
      "metadata": {
        "colab": {
          "base_uri": "https://localhost:8080/"
        },
        "id": "1MgqZEdfMSvS",
        "outputId": "f76af3ff-bfc5-4292-a5e7-c81ddd531abb"
      },
      "execution_count": null,
      "outputs": [
        {
          "output_type": "execute_result",
          "data": {
            "text/plain": [
              "list"
            ]
          },
          "metadata": {},
          "execution_count": 115
        }
      ]
    },
    {
      "cell_type": "code",
      "source": [
        "lista_com_elementos_repetidos"
      ],
      "metadata": {
        "colab": {
          "base_uri": "https://localhost:8080/"
        },
        "id": "_o1SuHLtMSsr",
        "outputId": "764131e9-3fcf-45d3-92c0-faac1cba6441"
      },
      "execution_count": null,
      "outputs": [
        {
          "output_type": "execute_result",
          "data": {
            "text/plain": [
              "[1, 1, 1, 1, 1, 1, 1, 1]"
            ]
          },
          "metadata": {},
          "execution_count": 116
        }
      ]
    },
    {
      "cell_type": "code",
      "source": [
        "lista_com_elementos_repetidos [2] ='teste' # mudando informação na lista\n",
        "\n",
        "lista_com_elementos_repetidos"
      ],
      "metadata": {
        "colab": {
          "base_uri": "https://localhost:8080/"
        },
        "id": "p4otq_1ZMSqX",
        "outputId": "fca23977-308f-42b5-cd5c-618ab296e008"
      },
      "execution_count": null,
      "outputs": [
        {
          "output_type": "execute_result",
          "data": {
            "text/plain": [
              "[1, 1, 'teste', 1, 1, 1, 1, 1]"
            ]
          },
          "metadata": {},
          "execution_count": 119
        }
      ]
    },
    {
      "cell_type": "code",
      "source": [
        "del lista_com_elementos_repetidos[2] # del é uma palavra reservada no python, aqui ele irá deletar o terceiro elemento da lista pois a contagem inicia no 0\n",
        "\n",
        "lista_com_elementos_repetidos"
      ],
      "metadata": {
        "colab": {
          "base_uri": "https://localhost:8080/"
        },
        "id": "V7nPNrv7MSnc",
        "outputId": "a6267127-d323-455b-919d-9365f225b032"
      },
      "execution_count": null,
      "outputs": [
        {
          "output_type": "execute_result",
          "data": {
            "text/plain": [
              "[1, 1, 1, 1, 1, 1, 1]"
            ]
          },
          "metadata": {},
          "execution_count": 120
        }
      ]
    },
    {
      "cell_type": "code",
      "source": [
        "lista_com_elementos_repetidos [2] = 5\n",
        "\n",
        "lista_com_elementos_repetidos"
      ],
      "metadata": {
        "colab": {
          "base_uri": "https://localhost:8080/"
        },
        "id": "kWiSiscVMSkq",
        "outputId": "9a29deed-3ab9-4ded-ce31-d98e1f5fb4a1"
      },
      "execution_count": null,
      "outputs": [
        {
          "output_type": "execute_result",
          "data": {
            "text/plain": [
              "[1, 1, 5, 1, 1, 1, 1]"
            ]
          },
          "metadata": {},
          "execution_count": 122
        }
      ]
    },
    {
      "cell_type": "code",
      "source": [
        "tamanho_lista = len (lista_com_elementos_repetidos) # a função len conta o tamanho da lista\n",
        "\n",
        "tamanho_lista"
      ],
      "metadata": {
        "colab": {
          "base_uri": "https://localhost:8080/"
        },
        "id": "U7ZyhWmJMSiH",
        "outputId": "a487871f-ddfa-44e0-aefc-6dce73b2200a"
      },
      "execution_count": null,
      "outputs": [
        {
          "output_type": "execute_result",
          "data": {
            "text/plain": [
              "7"
            ]
          },
          "metadata": {},
          "execution_count": 123
        }
      ]
    },
    {
      "cell_type": "code",
      "source": [
        "del lista_com_elementos_repetidos [0]\n",
        "\n",
        "len (lista_com_elementos_repetidos)"
      ],
      "metadata": {
        "colab": {
          "base_uri": "https://localhost:8080/"
        },
        "id": "deVVodIBMSfJ",
        "outputId": "26e93197-23f3-4c57-9220-098957cc8c60"
      },
      "execution_count": null,
      "outputs": [
        {
          "output_type": "execute_result",
          "data": {
            "text/plain": [
              "3"
            ]
          },
          "metadata": {},
          "execution_count": 127
        }
      ]
    },
    {
      "cell_type": "code",
      "source": [
        "straing_tambem_e_QUASE_lista = \"Vamos testar!\" # é quase uma lista, pois é possível acessar os elementos na ordem"
      ],
      "metadata": {
        "id": "rzW24cNUMSbD"
      },
      "execution_count": null,
      "outputs": []
    },
    {
      "cell_type": "code",
      "source": [
        "straing_tambem_e_QUASE_lista [0]"
      ],
      "metadata": {
        "colab": {
          "base_uri": "https://localhost:8080/",
          "height": 35
        },
        "id": "ZcYoGFJcMSYH",
        "outputId": "b135c5ba-e426-40c0-ed4f-9714c6fae891"
      },
      "execution_count": null,
      "outputs": [
        {
          "output_type": "execute_result",
          "data": {
            "text/plain": [
              "'V'"
            ],
            "application/vnd.google.colaboratory.intrinsic+json": {
              "type": "string"
            }
          },
          "metadata": {},
          "execution_count": 131
        }
      ]
    },
    {
      "cell_type": "code",
      "source": [
        "straing_tambem_e_QUASE_lista [4]"
      ],
      "metadata": {
        "colab": {
          "base_uri": "https://localhost:8080/",
          "height": 35
        },
        "id": "hwNYgEMUMSVQ",
        "outputId": "802f802c-215e-4604-ee3a-23ffb2ee63ed"
      },
      "execution_count": null,
      "outputs": [
        {
          "output_type": "execute_result",
          "data": {
            "text/plain": [
              "'s'"
            ],
            "application/vnd.google.colaboratory.intrinsic+json": {
              "type": "string"
            }
          },
          "metadata": {},
          "execution_count": 132
        }
      ]
    },
    {
      "cell_type": "code",
      "source": [
        "straing_tambem_e_QUASE_lista [5] # o espaço também é um caracter"
      ],
      "metadata": {
        "colab": {
          "base_uri": "https://localhost:8080/",
          "height": 35
        },
        "id": "Oh_GWGD8MSSo",
        "outputId": "e9bf2fdb-3dd0-48d6-ccc1-1fa70a59c2ab"
      },
      "execution_count": null,
      "outputs": [
        {
          "output_type": "execute_result",
          "data": {
            "text/plain": [
              "' '"
            ],
            "application/vnd.google.colaboratory.intrinsic+json": {
              "type": "string"
            }
          },
          "metadata": {},
          "execution_count": 133
        }
      ]
    },
    {
      "cell_type": "code",
      "source": [
        "straing_tambem_e_QUASE_lista [-1] # para acessar o último caracter da lista"
      ],
      "metadata": {
        "colab": {
          "base_uri": "https://localhost:8080/",
          "height": 35
        },
        "id": "liHcX9vfMSPZ",
        "outputId": "97d81e3a-cd6f-4185-ea9c-1aac9ccd3187"
      },
      "execution_count": null,
      "outputs": [
        {
          "output_type": "execute_result",
          "data": {
            "text/plain": [
              "'!'"
            ],
            "application/vnd.google.colaboratory.intrinsic+json": {
              "type": "string"
            }
          },
          "metadata": {},
          "execution_count": 134
        }
      ]
    },
    {
      "cell_type": "markdown",
      "source": [
        "##Tuplas\n",
        "\n",
        "As Tuplas são imutáveis\n"
      ],
      "metadata": {
        "id": "uhAEstAzScMq"
      }
    },
    {
      "cell_type": "code",
      "source": [
        "primeira_tupla = (\"Let's Data\", 4, .2, False) # lembrando que na lista é [ ] e na tupla é ()\n",
        "\n",
        "type (primeira_tupla)"
      ],
      "metadata": {
        "colab": {
          "base_uri": "https://localhost:8080/"
        },
        "id": "tRZKNhKwMSKD",
        "outputId": "6bce33f5-fb22-4cab-9e79-aa652a88a301"
      },
      "execution_count": null,
      "outputs": [
        {
          "output_type": "execute_result",
          "data": {
            "text/plain": [
              "tuple"
            ]
          },
          "metadata": {},
          "execution_count": 136
        }
      ]
    },
    {
      "cell_type": "code",
      "source": [
        "primeira_tupla # na impressão ele coloca parênteses identificando que é uma dupla"
      ],
      "metadata": {
        "colab": {
          "base_uri": "https://localhost:8080/"
        },
        "id": "R7K7-XZdMSHe",
        "outputId": "8a71b3f5-c386-49c9-868c-a0e3d175489e"
      },
      "execution_count": null,
      "outputs": [
        {
          "output_type": "execute_result",
          "data": {
            "text/plain": [
              "(\"Let's Data\", 4, 0.2, False)"
            ]
          },
          "metadata": {},
          "execution_count": 138
        }
      ]
    },
    {
      "cell_type": "code",
      "source": [
        "segunda_tupla = \"Let's Data\", 4, .2, False # posso criar sem parênteses que o python sabe que é uma dupla\n",
        "\n",
        "type (segunda_tupla)"
      ],
      "metadata": {
        "colab": {
          "base_uri": "https://localhost:8080/"
        },
        "id": "p4IeCLOZMSEc",
        "outputId": "dbcfa0f4-245b-42fe-87d8-301f771b5cce"
      },
      "execution_count": null,
      "outputs": [
        {
          "output_type": "execute_result",
          "data": {
            "text/plain": [
              "tuple"
            ]
          },
          "metadata": {},
          "execution_count": 142
        }
      ]
    },
    {
      "cell_type": "code",
      "source": [
        " segunda_tupla"
      ],
      "metadata": {
        "colab": {
          "base_uri": "https://localhost:8080/"
        },
        "id": "EMSg5EBOMSBs",
        "outputId": "b67a066f-fba0-499e-fd9e-b1cb3ae7b447"
      },
      "execution_count": null,
      "outputs": [
        {
          "output_type": "execute_result",
          "data": {
            "text/plain": [
              "(\"Let's Data\", 4, 0.2, False)"
            ]
          },
          "metadata": {},
          "execution_count": 143
        }
      ]
    },
    {
      "cell_type": "code",
      "source": [
        "terceira_tupla = tuple ()   # nessa terceira forma, é informada a função tupla()\n",
        "\n",
        "type (terceira_tupla)"
      ],
      "metadata": {
        "colab": {
          "base_uri": "https://localhost:8080/"
        },
        "id": "ytf-bN9UMR-t",
        "outputId": "db4e932f-56ad-45ee-8592-a05889923754"
      },
      "execution_count": null,
      "outputs": [
        {
          "output_type": "execute_result",
          "data": {
            "text/plain": [
              "tuple"
            ]
          },
          "metadata": {},
          "execution_count": 144
        }
      ]
    },
    {
      "cell_type": "code",
      "source": [
        "# Será que pode mudar as informações da tupla? Não, ela não aceita por ser imutável\n",
        "\n",
        "terceira_tupla.append('elemente')"
      ],
      "metadata": {
        "colab": {
          "base_uri": "https://localhost:8080/",
          "height": 176
        },
        "id": "jRfP3gJPMR7n",
        "outputId": "287a1239-4481-419b-85f4-b71af98e0e2b"
      },
      "execution_count": null,
      "outputs": [
        {
          "output_type": "error",
          "ename": "AttributeError",
          "evalue": "'tuple' object has no attribute 'append'",
          "traceback": [
            "\u001b[0;31m---------------------------------------------------------------------------\u001b[0m",
            "\u001b[0;31mAttributeError\u001b[0m                            Traceback (most recent call last)",
            "\u001b[0;32m<ipython-input-145-2320472584b9>\u001b[0m in \u001b[0;36m<cell line: 0>\u001b[0;34m()\u001b[0m\n\u001b[1;32m      1\u001b[0m \u001b[0;31m# Será que pode mudar as informações da tupla?\u001b[0m\u001b[0;34m\u001b[0m\u001b[0;34m\u001b[0m\u001b[0m\n\u001b[1;32m      2\u001b[0m \u001b[0;34m\u001b[0m\u001b[0m\n\u001b[0;32m----> 3\u001b[0;31m \u001b[0mterceira_tupla\u001b[0m\u001b[0;34m.\u001b[0m\u001b[0mappend\u001b[0m\u001b[0;34m(\u001b[0m\u001b[0;34m'elemente'\u001b[0m\u001b[0;34m)\u001b[0m\u001b[0;34m\u001b[0m\u001b[0;34m\u001b[0m\u001b[0m\n\u001b[0m",
            "\u001b[0;31mAttributeError\u001b[0m: 'tuple' object has no attribute 'append'"
          ]
        }
      ]
    },
    {
      "cell_type": "code",
      "source": [
        "tupla_com_elementos_repetidos = (1,1,1,1,1,1,1,1)  # a tupla aceita elementos repetidos\n",
        "\n",
        "type (tupla_com_elementos_repetidos)"
      ],
      "metadata": {
        "colab": {
          "base_uri": "https://localhost:8080/"
        },
        "id": "BD0PJwURMR06",
        "outputId": "f2794a79-cac0-49e2-849d-d6e3c642dac6"
      },
      "execution_count": null,
      "outputs": [
        {
          "output_type": "execute_result",
          "data": {
            "text/plain": [
              "tuple"
            ]
          },
          "metadata": {},
          "execution_count": 146
        }
      ]
    },
    {
      "cell_type": "code",
      "source": [
        "tupla_com_elementos_repetidos"
      ],
      "metadata": {
        "colab": {
          "base_uri": "https://localhost:8080/"
        },
        "id": "pIHvMpLSVBTY",
        "outputId": "fd050dbd-67e2-4914-ae7c-6fa2548a2544"
      },
      "execution_count": null,
      "outputs": [
        {
          "output_type": "execute_result",
          "data": {
            "text/plain": [
              "(1, 1, 1, 1, 1, 1, 1, 1)"
            ]
          },
          "metadata": {},
          "execution_count": 147
        }
      ]
    },
    {
      "cell_type": "code",
      "source": [
        "# Não era imutável? Sim, também não aceita o del\n",
        "\n",
        "del primeira_tupla [2]"
      ],
      "metadata": {
        "colab": {
          "base_uri": "https://localhost:8080/",
          "height": 176
        },
        "id": "fEnO5wszVNqI",
        "outputId": "40e85e94-65e0-4b98-a14c-fa66c68b885e"
      },
      "execution_count": null,
      "outputs": [
        {
          "output_type": "error",
          "ename": "TypeError",
          "evalue": "'tuple' object doesn't support item deletion",
          "traceback": [
            "\u001b[0;31m---------------------------------------------------------------------------\u001b[0m",
            "\u001b[0;31mTypeError\u001b[0m                                 Traceback (most recent call last)",
            "\u001b[0;32m<ipython-input-148-56d18a501d5e>\u001b[0m in \u001b[0;36m<cell line: 0>\u001b[0;34m()\u001b[0m\n\u001b[1;32m      1\u001b[0m \u001b[0;31m# Não era imutável? Sim, também não aceita o del\u001b[0m\u001b[0;34m\u001b[0m\u001b[0;34m\u001b[0m\u001b[0m\n\u001b[1;32m      2\u001b[0m \u001b[0;34m\u001b[0m\u001b[0m\n\u001b[0;32m----> 3\u001b[0;31m \u001b[0;32mdel\u001b[0m \u001b[0mprimeira_tupla\u001b[0m \u001b[0;34m[\u001b[0m\u001b[0;36m2\u001b[0m\u001b[0;34m]\u001b[0m\u001b[0;34m\u001b[0m\u001b[0;34m\u001b[0m\u001b[0m\n\u001b[0m",
            "\u001b[0;31mTypeError\u001b[0m: 'tuple' object doesn't support item deletion"
          ]
        }
      ]
    },
    {
      "cell_type": "code",
      "source": [
        "tamanho_dupla = len (tupla_com_elementos_repetidos)\n",
        "\n",
        "tamanho_dupla"
      ],
      "metadata": {
        "colab": {
          "base_uri": "https://localhost:8080/"
        },
        "id": "cXp4OaBAV75H",
        "outputId": "3f1bf937-ccb5-4b15-d848-1f7061ac3217"
      },
      "execution_count": null,
      "outputs": [
        {
          "output_type": "execute_result",
          "data": {
            "text/plain": [
              "8"
            ]
          },
          "metadata": {},
          "execution_count": 149
        }
      ]
    },
    {
      "cell_type": "markdown",
      "source": [
        "##Conjunto\n",
        "\n",
        "Não aceita informação repetida e não tem ordem definida\n"
      ],
      "metadata": {
        "id": "scbDyEbohCjD"
      }
    },
    {
      "cell_type": "code",
      "source": [
        "a = {1,2,'teste'}\n",
        "\n",
        "type (a)"
      ],
      "metadata": {
        "colab": {
          "base_uri": "https://localhost:8080/"
        },
        "id": "U_gbcc_GV8SV",
        "outputId": "2d43dd4a-6cab-46b1-e512-ea4e3f07c031"
      },
      "execution_count": null,
      "outputs": [
        {
          "output_type": "execute_result",
          "data": {
            "text/plain": [
              "set"
            ]
          },
          "metadata": {},
          "execution_count": 153
        }
      ]
    },
    {
      "cell_type": "code",
      "source": [
        "a"
      ],
      "metadata": {
        "colab": {
          "base_uri": "https://localhost:8080/"
        },
        "id": "AhnPqRLtV8b6",
        "outputId": "a58f57e3-9aa9-43d7-d165-890053364339"
      },
      "execution_count": null,
      "outputs": [
        {
          "output_type": "execute_result",
          "data": {
            "text/plain": [
              "{1, 2, 'teste'}"
            ]
          },
          "metadata": {},
          "execution_count": 154
        }
      ]
    },
    {
      "cell_type": "code",
      "source": [
        "##CUIDADO\n",
        "x = {} ## sem elementos não será um conjunto e sim um dicionário\n",
        "\n",
        "# a sugestão é que se crie da seguinte forma:\n",
        "\n",
        "x = dict {} # dicionário\n",
        "y = set  {} # conjunto"
      ],
      "metadata": {
        "id": "4Xv291FrV8lT"
      },
      "execution_count": null,
      "outputs": []
    },
    {
      "cell_type": "code",
      "source": [
        "b = set ([2,3])\n",
        "\n",
        "type (b)"
      ],
      "metadata": {
        "colab": {
          "base_uri": "https://localhost:8080/"
        },
        "id": "9yJWs91tV8tO",
        "outputId": "b0cc12d6-ec08-4bb9-952c-cce6eec94108"
      },
      "execution_count": null,
      "outputs": [
        {
          "output_type": "execute_result",
          "data": {
            "text/plain": [
              "set"
            ]
          },
          "metadata": {},
          "execution_count": 156
        }
      ]
    },
    {
      "cell_type": "code",
      "source": [
        "b"
      ],
      "metadata": {
        "colab": {
          "base_uri": "https://localhost:8080/"
        },
        "id": "V5SolhaAV8yb",
        "outputId": "77dd9fc5-ab49-4821-dd63-9755f35289b9"
      },
      "execution_count": null,
      "outputs": [
        {
          "output_type": "execute_result",
          "data": {
            "text/plain": [
              "{2, 3}"
            ]
          },
          "metadata": {},
          "execution_count": 157
        }
      ]
    },
    {
      "cell_type": "code",
      "source": [
        "a,b"
      ],
      "metadata": {
        "colab": {
          "base_uri": "https://localhost:8080/"
        },
        "id": "MM3uSHNxV82F",
        "outputId": "045627de-0a49-400c-e406-2a4b9f1bebf8"
      },
      "execution_count": null,
      "outputs": [
        {
          "output_type": "execute_result",
          "data": {
            "text/plain": [
              "({1, 2, 'teste'}, {2, 3})"
            ]
          },
          "metadata": {},
          "execution_count": 159
        }
      ]
    },
    {
      "cell_type": "code",
      "source": [
        "# vários métodos de conjunto\n",
        "\n",
        "d = a.difference (b)\n",
        "\n",
        "d"
      ],
      "metadata": {
        "colab": {
          "base_uri": "https://localhost:8080/"
        },
        "id": "AtwhUVjFV85U",
        "outputId": "c73b7cf6-d8d4-47dd-a24f-23c1453c773b"
      },
      "execution_count": null,
      "outputs": [
        {
          "output_type": "execute_result",
          "data": {
            "text/plain": [
              "{1, 'teste'}"
            ]
          },
          "metadata": {},
          "execution_count": 161
        }
      ]
    },
    {
      "cell_type": "code",
      "source": [
        "e = b.difference (a)\n",
        "\n",
        "e"
      ],
      "metadata": {
        "colab": {
          "base_uri": "https://localhost:8080/"
        },
        "id": "eqbGND46V88h",
        "outputId": "8517bb51-bd71-4f44-e5a3-06aafb76492e"
      },
      "execution_count": null,
      "outputs": [
        {
          "output_type": "execute_result",
          "data": {
            "text/plain": [
              "{3}"
            ]
          },
          "metadata": {},
          "execution_count": 163
        }
      ]
    },
    {
      "cell_type": "code",
      "source": [
        "f = a.intersection (b)\n",
        "\n",
        "f"
      ],
      "metadata": {
        "colab": {
          "base_uri": "https://localhost:8080/"
        },
        "id": "mGvTWnGCV8_n",
        "outputId": "8a1ea202-1c88-4608-a313-d9a6846e8dbf"
      },
      "execution_count": null,
      "outputs": [
        {
          "output_type": "execute_result",
          "data": {
            "text/plain": [
              "{2}"
            ]
          },
          "metadata": {},
          "execution_count": 164
        }
      ]
    },
    {
      "cell_type": "code",
      "source": [
        "c = {3,4,5}\n",
        "\n",
        "g = a.union (c)\n",
        "\n",
        "g"
      ],
      "metadata": {
        "colab": {
          "base_uri": "https://localhost:8080/"
        },
        "id": "GBwFOkpoV9Cz",
        "outputId": "caf328e7-1b54-4d51-8e1e-1f13d892eff9"
      },
      "execution_count": null,
      "outputs": [
        {
          "output_type": "execute_result",
          "data": {
            "text/plain": [
              "{1, 2, 3, 4, 5, 'teste'}"
            ]
          },
          "metadata": {},
          "execution_count": 165
        }
      ]
    },
    {
      "cell_type": "code",
      "source": [
        "z = {1,1,1,2,2,2,3,3,3} # no conjunto não repete elementos\n",
        "\n",
        "z"
      ],
      "metadata": {
        "colab": {
          "base_uri": "https://localhost:8080/"
        },
        "id": "YsQAYlpPV9Fx",
        "outputId": "f221ce9b-5dd5-499d-ea51-b8d4b16e1582"
      },
      "execution_count": null,
      "outputs": [
        {
          "output_type": "execute_result",
          "data": {
            "text/plain": [
              "{1, 2, 3}"
            ]
          },
          "metadata": {},
          "execution_count": 167
        }
      ]
    },
    {
      "cell_type": "code",
      "source": [
        "z.add ('texto') # para adicionar elementos usa-se o add\n",
        "\n",
        "z"
      ],
      "metadata": {
        "colab": {
          "base_uri": "https://localhost:8080/"
        },
        "id": "0j5q3kkwV9Iv",
        "outputId": "99921d4c-14be-4e05-91a6-e01bdfbd4b14"
      },
      "execution_count": null,
      "outputs": [
        {
          "output_type": "execute_result",
          "data": {
            "text/plain": [
              "{1, 2, 3, 'texto'}"
            ]
          },
          "metadata": {},
          "execution_count": 168
        }
      ]
    },
    {
      "cell_type": "code",
      "source": [
        "elemento = z.pop() # não é possível acessar um elemento do conjunto sem removê-lo, então precisa guardar em algum lugar, se não vai perder, usa-se o pop para isso, não tem como escolher qual elemento pois não tem ordem\n",
        "\n",
        "elemento"
      ],
      "metadata": {
        "colab": {
          "base_uri": "https://localhost:8080/"
        },
        "id": "IoQQi15XV9Ll",
        "outputId": "660ceaab-a4d3-4a5c-871c-6d727b80595e"
      },
      "execution_count": null,
      "outputs": [
        {
          "output_type": "execute_result",
          "data": {
            "text/plain": [
              "1"
            ]
          },
          "metadata": {},
          "execution_count": 169
        }
      ]
    },
    {
      "cell_type": "code",
      "source": [
        "z # o número 1 retirado"
      ],
      "metadata": {
        "colab": {
          "base_uri": "https://localhost:8080/"
        },
        "id": "wbBDPbTcV9PW",
        "outputId": "06a228f1-c3d0-4b2c-db90-49ad52e026b8"
      },
      "execution_count": null,
      "outputs": [
        {
          "output_type": "execute_result",
          "data": {
            "text/plain": [
              "{2, 3, 'texto'}"
            ]
          },
          "metadata": {},
          "execution_count": 170
        }
      ]
    },
    {
      "cell_type": "code",
      "source": [
        "z [0] # não busca informação no conjunto e com isso o erro acontece"
      ],
      "metadata": {
        "colab": {
          "base_uri": "https://localhost:8080/",
          "height": 141
        },
        "id": "Y5t0gkwPljQR",
        "outputId": "7f6ee076-51af-476c-df29-ef5d3ccc66e9"
      },
      "execution_count": null,
      "outputs": [
        {
          "output_type": "error",
          "ename": "TypeError",
          "evalue": "'set' object is not subscriptable",
          "traceback": [
            "\u001b[0;31m---------------------------------------------------------------------------\u001b[0m",
            "\u001b[0;31mTypeError\u001b[0m                                 Traceback (most recent call last)",
            "\u001b[0;32m<ipython-input-171-6a7c92e83efd>\u001b[0m in \u001b[0;36m<cell line: 0>\u001b[0;34m()\u001b[0m\n\u001b[0;32m----> 1\u001b[0;31m \u001b[0mz\u001b[0m \u001b[0;34m[\u001b[0m\u001b[0;36m0\u001b[0m\u001b[0;34m]\u001b[0m\u001b[0;34m\u001b[0m\u001b[0;34m\u001b[0m\u001b[0m\n\u001b[0m",
            "\u001b[0;31mTypeError\u001b[0m: 'set' object is not subscriptable"
          ]
        }
      ]
    },
    {
      "cell_type": "markdown",
      "source": [
        "##Dicionário em Python\n",
        "\n",
        "Adionar um par de chave e valor\n"
      ],
      "metadata": {
        "id": "EO-kA178rooF"
      }
    },
    {
      "cell_type": "code",
      "source": [
        "dicionario = dict ()\n",
        "\n",
        "type (dicionario)"
      ],
      "metadata": {
        "colab": {
          "base_uri": "https://localhost:8080/"
        },
        "id": "UfqXg9lAlkSo",
        "outputId": "0025d56a-629e-43e3-bbc0-01d11aa7d175"
      },
      "execution_count": null,
      "outputs": [
        {
          "output_type": "execute_result",
          "data": {
            "text/plain": [
              "dict"
            ]
          },
          "metadata": {},
          "execution_count": 172
        }
      ]
    },
    {
      "cell_type": "code",
      "source": [
        "dicionario = {'chave' : 'valor'}\n",
        "\n",
        "type (dicionario)"
      ],
      "metadata": {
        "colab": {
          "base_uri": "https://localhost:8080/"
        },
        "id": "hx82RqG_lkaG",
        "outputId": "63798387-3a52-41c0-a3fe-27fb793087bd"
      },
      "execution_count": null,
      "outputs": [
        {
          "output_type": "execute_result",
          "data": {
            "text/plain": [
              "dict"
            ]
          },
          "metadata": {},
          "execution_count": 173
        }
      ]
    },
    {
      "cell_type": "code",
      "source": [
        "dicionario"
      ],
      "metadata": {
        "colab": {
          "base_uri": "https://localhost:8080/"
        },
        "id": "6On9zIQ8lkd9",
        "outputId": "2bbc0122-db58-4016-e7d4-c337d1ca226e"
      },
      "execution_count": null,
      "outputs": [
        {
          "output_type": "execute_result",
          "data": {
            "text/plain": [
              "{'chave': 'valor'}"
            ]
          },
          "metadata": {},
          "execution_count": 174
        }
      ]
    },
    {
      "cell_type": "code",
      "source": [
        "dicionario ['outra_chave'] = 'outro valor' # essa é a forma de adicionar chave e valor dentro do dicionário\n",
        "\n",
        "dicionario"
      ],
      "metadata": {
        "colab": {
          "base_uri": "https://localhost:8080/"
        },
        "id": "GgEj2tAFlkhV",
        "outputId": "237029cb-f339-4b6a-fc40-474a1cc46f00"
      },
      "execution_count": null,
      "outputs": [
        {
          "output_type": "execute_result",
          "data": {
            "text/plain": [
              "{'chave': 'valor', 'outra_chave': 'outro valor'}"
            ]
          },
          "metadata": {},
          "execution_count": 175
        }
      ]
    },
    {
      "cell_type": "code",
      "source": [
        "# o valor por ser qualquer coisa inclusive uma lista dentro de outra lista, isso mostra a versatilidade\n",
        "\n",
        "dicionario [1] = ['lista', 'também', 'é', 'valor', ['lista dentro da lista também pode']]\n",
        "\n",
        "dicionario"
      ],
      "metadata": {
        "colab": {
          "base_uri": "https://localhost:8080/"
        },
        "id": "A6G1CONplkkf",
        "outputId": "c441adac-1776-4027-8e08-82041056a2fd"
      },
      "execution_count": null,
      "outputs": [
        {
          "output_type": "execute_result",
          "data": {
            "text/plain": [
              "{'chave': 'valor',\n",
              " 'outra_chave': 'outro valor',\n",
              " 1: ['lista', 'também', 'é', 'valor', ['lista dentro da lista também pode']]}"
            ]
          },
          "metadata": {},
          "execution_count": 177
        }
      ]
    },
    {
      "cell_type": "code",
      "source": [
        "dicionario ['chave'] # buscando pela chave"
      ],
      "metadata": {
        "colab": {
          "base_uri": "https://localhost:8080/",
          "height": 35
        },
        "id": "zx6eMqCVlknm",
        "outputId": "011998eb-bc9f-412c-a132-05015de907c5"
      },
      "execution_count": null,
      "outputs": [
        {
          "output_type": "execute_result",
          "data": {
            "text/plain": [
              "'valor'"
            ],
            "application/vnd.google.colaboratory.intrinsic+json": {
              "type": "string"
            }
          },
          "metadata": {},
          "execution_count": 178
        }
      ]
    },
    {
      "cell_type": "code",
      "source": [
        "dicionario ['outra_chave'] # buscando pela chave"
      ],
      "metadata": {
        "colab": {
          "base_uri": "https://localhost:8080/",
          "height": 35
        },
        "id": "XmoPZGW6lkqs",
        "outputId": "d654ea74-32e2-45d7-d54e-cb69e6e1c0d1"
      },
      "execution_count": null,
      "outputs": [
        {
          "output_type": "execute_result",
          "data": {
            "text/plain": [
              "'outro valor'"
            ],
            "application/vnd.google.colaboratory.intrinsic+json": {
              "type": "string"
            }
          },
          "metadata": {},
          "execution_count": 179
        }
      ]
    },
    {
      "cell_type": "code",
      "source": [
        "dicionario [1] # buscando pela chave"
      ],
      "metadata": {
        "colab": {
          "base_uri": "https://localhost:8080/"
        },
        "id": "uUXicvuAlmZm",
        "outputId": "7b5f6ee6-c29d-4ea1-b657-a0755b52f9ce"
      },
      "execution_count": null,
      "outputs": [
        {
          "output_type": "execute_result",
          "data": {
            "text/plain": [
              "['lista', 'também', 'é', 'valor', ['lista dentro da lista também pode']]"
            ]
          },
          "metadata": {},
          "execution_count": 180
        }
      ]
    },
    {
      "cell_type": "code",
      "source": [
        "dicionario ['chave'].upper () # upper colocar em maiúsculo a string"
      ],
      "metadata": {
        "colab": {
          "base_uri": "https://localhost:8080/",
          "height": 35
        },
        "id": "as-QE0wVlmWi",
        "outputId": "71a853dd-589b-467b-a4a9-7745213faa8c"
      },
      "execution_count": null,
      "outputs": [
        {
          "output_type": "execute_result",
          "data": {
            "text/plain": [
              "'VALOR'"
            ],
            "application/vnd.google.colaboratory.intrinsic+json": {
              "type": "string"
            }
          },
          "metadata": {},
          "execution_count": 181
        }
      ]
    },
    {
      "cell_type": "code",
      "source": [
        "dicionario ['chave'] [0] #está buscando o elemento que está na posição 0"
      ],
      "metadata": {
        "colab": {
          "base_uri": "https://localhost:8080/",
          "height": 35
        },
        "id": "9tKNvA7ElmOn",
        "outputId": "6138bcf7-531c-41a8-a45c-380b014c8632"
      },
      "execution_count": null,
      "outputs": [
        {
          "output_type": "execute_result",
          "data": {
            "text/plain": [
              "'v'"
            ],
            "application/vnd.google.colaboratory.intrinsic+json": {
              "type": "string"
            }
          },
          "metadata": {},
          "execution_count": 182
        }
      ]
    },
    {
      "cell_type": "code",
      "source": [
        "dicionario ['chave_nova'] = 'valor da chave nova' # essa é a forma de atribuir nova chave e valor\n",
        "\n",
        "dicionario"
      ],
      "metadata": {
        "colab": {
          "base_uri": "https://localhost:8080/"
        },
        "id": "NGX5kHPglmLt",
        "outputId": "c35b0f36-4b5f-4812-da93-e662a96867d9"
      },
      "execution_count": null,
      "outputs": [
        {
          "output_type": "execute_result",
          "data": {
            "text/plain": [
              "{'chave': 'valor',\n",
              " 'outra_chave': 'outro valor',\n",
              " 1: ['lista', 'também', 'é', 'valor', ['lista dentro da lista também pode']],\n",
              " 'chave_nova': 'valor da chave nova'}"
            ]
          },
          "metadata": {},
          "execution_count": 183
        }
      ]
    },
    {
      "cell_type": "code",
      "source": [
        "# acessando valor da chave\n",
        "\n",
        "dicionario ['chave_nova']"
      ],
      "metadata": {
        "colab": {
          "base_uri": "https://localhost:8080/",
          "height": 35
        },
        "id": "bocqZlCrlmIs",
        "outputId": "805da645-21fc-42ad-ee39-cb92ee139c52"
      },
      "execution_count": null,
      "outputs": [
        {
          "output_type": "execute_result",
          "data": {
            "text/plain": [
              "'valor da chave nova'"
            ],
            "application/vnd.google.colaboratory.intrinsic+json": {
              "type": "string"
            }
          },
          "metadata": {},
          "execution_count": 184
        }
      ]
    },
    {
      "cell_type": "code",
      "source": [
        "# no dicionário quando eu passo uma valor em colchetes estou falando qual é a chave e não a posição, nesse caso deu erro pois não existe chave que se chama 0\n",
        "\n",
        "dicionario [0]"
      ],
      "metadata": {
        "colab": {
          "base_uri": "https://localhost:8080/",
          "height": 193
        },
        "id": "N2ZLqi4GlmF1",
        "outputId": "a93bf3d4-f444-4cc8-b95f-bbca18b54cd4"
      },
      "execution_count": null,
      "outputs": [
        {
          "output_type": "error",
          "ename": "KeyError",
          "evalue": "0",
          "traceback": [
            "\u001b[0;31m---------------------------------------------------------------------------\u001b[0m",
            "\u001b[0;31mKeyError\u001b[0m                                  Traceback (most recent call last)",
            "\u001b[0;32m<ipython-input-185-9df463061092>\u001b[0m in \u001b[0;36m<cell line: 0>\u001b[0;34m()\u001b[0m\n\u001b[1;32m      1\u001b[0m \u001b[0;31m#quando eu falo de dicionário, quando eu passo uma valor em colchetes estou falando qual é a chave e não a posição\u001b[0m\u001b[0;34m\u001b[0m\u001b[0;34m\u001b[0m\u001b[0m\n\u001b[1;32m      2\u001b[0m \u001b[0;34m\u001b[0m\u001b[0m\n\u001b[0;32m----> 3\u001b[0;31m \u001b[0mdicionario\u001b[0m \u001b[0;34m[\u001b[0m\u001b[0;36m0\u001b[0m\u001b[0;34m]\u001b[0m\u001b[0;34m\u001b[0m\u001b[0;34m\u001b[0m\u001b[0m\n\u001b[0m",
            "\u001b[0;31mKeyError\u001b[0m: 0"
          ]
        }
      ]
    },
    {
      "cell_type": "code",
      "source": [
        "dicionario [1] # isso é uma lista, porque o valor é uma lista"
      ],
      "metadata": {
        "colab": {
          "base_uri": "https://localhost:8080/"
        },
        "id": "hXBjfpGplmDD",
        "outputId": "2ebdca7f-bcd8-4b77-efbb-3aca406eff91"
      },
      "execution_count": null,
      "outputs": [
        {
          "output_type": "execute_result",
          "data": {
            "text/plain": [
              "['lista', 'também', 'é', 'valor', ['lista dentro da lista também pode']]"
            ]
          },
          "metadata": {},
          "execution_count": 186
        }
      ]
    },
    {
      "cell_type": "code",
      "source": [
        "# quando quero pegar o primeiro valor da lista no dicionario\n",
        "\n",
        "dicionario [1] [0]"
      ],
      "metadata": {
        "colab": {
          "base_uri": "https://localhost:8080/",
          "height": 35
        },
        "id": "RNVls4tKlmAV",
        "outputId": "4e8bf6cb-076c-49a3-888b-f6ab947165c0"
      },
      "execution_count": null,
      "outputs": [
        {
          "output_type": "execute_result",
          "data": {
            "text/plain": [
              "'lista'"
            ],
            "application/vnd.google.colaboratory.intrinsic+json": {
              "type": "string"
            }
          },
          "metadata": {},
          "execution_count": 187
        }
      ]
    },
    {
      "cell_type": "code",
      "source": [
        "dicionario [1] [1]"
      ],
      "metadata": {
        "colab": {
          "base_uri": "https://localhost:8080/",
          "height": 35
        },
        "id": "QtGup3yIll96",
        "outputId": "8c76230a-01ee-413b-b25e-81ea94003b21"
      },
      "execution_count": null,
      "outputs": [
        {
          "output_type": "execute_result",
          "data": {
            "text/plain": [
              "'também'"
            ],
            "application/vnd.google.colaboratory.intrinsic+json": {
              "type": "string"
            }
          },
          "metadata": {},
          "execution_count": 188
        }
      ]
    },
    {
      "cell_type": "code",
      "source": [
        "dicionario [1] [2]"
      ],
      "metadata": {
        "colab": {
          "base_uri": "https://localhost:8080/",
          "height": 35
        },
        "id": "Hf8iCMm1ll7f",
        "outputId": "5afaa138-8d4e-48ce-f5f4-1a27ce3710e4"
      },
      "execution_count": null,
      "outputs": [
        {
          "output_type": "execute_result",
          "data": {
            "text/plain": [
              "'é'"
            ],
            "application/vnd.google.colaboratory.intrinsic+json": {
              "type": "string"
            }
          },
          "metadata": {},
          "execution_count": 189
        }
      ]
    },
    {
      "cell_type": "code",
      "source": [
        "dicionario [1] [4]"
      ],
      "metadata": {
        "colab": {
          "base_uri": "https://localhost:8080/"
        },
        "id": "QtUQzRZlll4v",
        "outputId": "febcf81e-22b2-4be0-a46c-25720e108c20"
      },
      "execution_count": null,
      "outputs": [
        {
          "output_type": "execute_result",
          "data": {
            "text/plain": [
              "['lista dentro da lista também pode']"
            ]
          },
          "metadata": {},
          "execution_count": 190
        }
      ]
    },
    {
      "cell_type": "code",
      "source": [
        "# aqui mostra que existem os níveis de busca, o 1 é a chave, o 4 é o valor na posição 4, e o 0 é a primeira posição dentro da lista em colchetes.\n",
        "dicionario [1] [4] [0]"
      ],
      "metadata": {
        "colab": {
          "base_uri": "https://localhost:8080/",
          "height": 35
        },
        "id": "b-9I0TUQll1k",
        "outputId": "7af06497-3b7c-41a0-f74e-d10f0cda4b4a"
      },
      "execution_count": null,
      "outputs": [
        {
          "output_type": "execute_result",
          "data": {
            "text/plain": [
              "'lista dentro da lista também pode'"
            ],
            "application/vnd.google.colaboratory.intrinsic+json": {
              "type": "string"
            }
          },
          "metadata": {},
          "execution_count": 192
        }
      ]
    },
    {
      "cell_type": "code",
      "source": [
        "menu_comida = dict() # criação de um dicionário vazio\n",
        "menu_comida ['hamburguer'] = 5.60 # criando uma par chave e valor\n",
        "\n",
        "menu_comida\n"
      ],
      "metadata": {
        "colab": {
          "base_uri": "https://localhost:8080/"
        },
        "id": "hR3bdIVAllsg",
        "outputId": "a02ab58a-ac2a-41ca-c7b9-199b2f9d0e78"
      },
      "execution_count": null,
      "outputs": [
        {
          "output_type": "execute_result",
          "data": {
            "text/plain": [
              "{'hamburguer': 5.6}"
            ]
          },
          "metadata": {},
          "execution_count": 193
        }
      ]
    },
    {
      "cell_type": "code",
      "source": [
        "menu_comida ['hamburguer']"
      ],
      "metadata": {
        "colab": {
          "base_uri": "https://localhost:8080/"
        },
        "id": "zNxdeVCdllaZ",
        "outputId": "8ebf7560-e0f8-4e04-b6a9-cfbe28d05b0d"
      },
      "execution_count": null,
      "outputs": [
        {
          "output_type": "execute_result",
          "data": {
            "text/plain": [
              "5.6"
            ]
          },
          "metadata": {},
          "execution_count": 194
        }
      ]
    },
    {
      "cell_type": "code",
      "source": [
        "menu_comida ['hamburguer'] = 5.80 # atualização do valor\n",
        "\n",
        "menu_comida ['hamburguer']"
      ],
      "metadata": {
        "colab": {
          "base_uri": "https://localhost:8080/"
        },
        "id": "JAwPKhiOz5jE",
        "outputId": "524c7690-623c-4b7b-920e-915ba01683ec"
      },
      "execution_count": null,
      "outputs": [
        {
          "output_type": "execute_result",
          "data": {
            "text/plain": [
              "5.8"
            ]
          },
          "metadata": {},
          "execution_count": 195
        }
      ]
    },
    {
      "cell_type": "code",
      "source": [
        "menu_comida"
      ],
      "metadata": {
        "colab": {
          "base_uri": "https://localhost:8080/"
        },
        "id": "_2TCgUqVz6ys",
        "outputId": "c02aa5fa-adf6-40b0-d609-c0628bfbb8f9"
      },
      "execution_count": null,
      "outputs": [
        {
          "output_type": "execute_result",
          "data": {
            "text/plain": [
              "{'hamburguer': 5.8}"
            ]
          },
          "metadata": {},
          "execution_count": 196
        }
      ]
    },
    {
      "cell_type": "code",
      "source": [
        "menu_comida ['fritas'] = 2.97\n",
        "\n",
        "menu_comida"
      ],
      "metadata": {
        "colab": {
          "base_uri": "https://localhost:8080/"
        },
        "id": "FvqXtVqUz6vv",
        "outputId": "191446b9-33e3-4577-8b09-39180918d52e"
      },
      "execution_count": null,
      "outputs": [
        {
          "output_type": "execute_result",
          "data": {
            "text/plain": [
              "{'hamburguer': 5.8, 'fritas': 2.97}"
            ]
          },
          "metadata": {},
          "execution_count": 198
        }
      ]
    },
    {
      "cell_type": "code",
      "source": [
        "menu_comida ['fritas'] = 3.08\n",
        "\n",
        "menu_comida ['fritas']"
      ],
      "metadata": {
        "colab": {
          "base_uri": "https://localhost:8080/"
        },
        "id": "aiFAPyc20VBe",
        "outputId": "9ec860b6-1100-4db5-dafd-c8759702702b"
      },
      "execution_count": null,
      "outputs": [
        {
          "output_type": "execute_result",
          "data": {
            "text/plain": [
              "3.08"
            ]
          },
          "metadata": {},
          "execution_count": 199
        }
      ]
    },
    {
      "cell_type": "code",
      "source": [
        "cadastro_funcionarios = {} # ao passar as chaves vazias, cria-se um dicionário\n",
        "\n",
        "type (cadastro_funcionarios)"
      ],
      "metadata": {
        "colab": {
          "base_uri": "https://localhost:8080/"
        },
        "id": "c_fud6KGz6tO",
        "outputId": "3d33aa2c-7024-440f-ad71-f73554cbcd4a"
      },
      "execution_count": null,
      "outputs": [
        {
          "output_type": "execute_result",
          "data": {
            "text/plain": [
              "dict"
            ]
          },
          "metadata": {},
          "execution_count": 200
        }
      ]
    },
    {
      "cell_type": "code",
      "source": [
        "# criando uma chave ['mat123'], sendo que o seu valor é um outro dicionário com chave e valor\n",
        "cadastro_funcionarios ['mat123'] = {'nome': 'Leoncio', 'idade': 'trinta', 'masculino': True}\n",
        "\n",
        "cadastro_funcionarios"
      ],
      "metadata": {
        "colab": {
          "base_uri": "https://localhost:8080/"
        },
        "id": "Tbmhc0Zbz6qL",
        "outputId": "9224a673-0f61-4451-d0e7-cbf324a5340f"
      },
      "execution_count": null,
      "outputs": [
        {
          "output_type": "execute_result",
          "data": {
            "text/plain": [
              "{'mat123': {'nome': 'Leoncio', 'idade': 'trinta', 'masculino': True}}"
            ]
          },
          "metadata": {},
          "execution_count": 201
        }
      ]
    },
    {
      "cell_type": "code",
      "source": [
        "# para buscar algum valor dentro do dicionário\n",
        "cadastro_funcionarios ['mat123'] ['nome']"
      ],
      "metadata": {
        "colab": {
          "base_uri": "https://localhost:8080/",
          "height": 35
        },
        "id": "_bDgcNqOz6na",
        "outputId": "23070964-47ae-4de1-c625-d8b00e9a8403"
      },
      "execution_count": null,
      "outputs": [
        {
          "output_type": "execute_result",
          "data": {
            "text/plain": [
              "'Leoncio'"
            ],
            "application/vnd.google.colaboratory.intrinsic+json": {
              "type": "string"
            }
          },
          "metadata": {},
          "execution_count": 203
        }
      ]
    },
    {
      "cell_type": "code",
      "source": [
        "# para buscar algum valor dentro do dicionário\n",
        "cadastro_funcionarios ['mat123'] ['masculino']"
      ],
      "metadata": {
        "colab": {
          "base_uri": "https://localhost:8080/"
        },
        "id": "cLnnyqB5z6kc",
        "outputId": "b87f9032-c780-4409-f89c-70b73e4dfeda"
      },
      "execution_count": null,
      "outputs": [
        {
          "output_type": "execute_result",
          "data": {
            "text/plain": [
              "True"
            ]
          },
          "metadata": {},
          "execution_count": 205
        }
      ]
    },
    {
      "cell_type": "code",
      "source": [
        "# para saber quais as chaves armazenadas\n",
        "cadastro_funcionarios.keys()"
      ],
      "metadata": {
        "colab": {
          "base_uri": "https://localhost:8080/"
        },
        "id": "GQ-MBtxaz6hh",
        "outputId": "c8f79dcd-9081-4c59-b747-8a89a32f3e33"
      },
      "execution_count": null,
      "outputs": [
        {
          "output_type": "execute_result",
          "data": {
            "text/plain": [
              "dict_keys(['mat123'])"
            ]
          },
          "metadata": {},
          "execution_count": 207
        }
      ]
    },
    {
      "cell_type": "code",
      "source": [
        "# para saber quais são os valores armazenados\n",
        "cadastro_funcionarios.values()"
      ],
      "metadata": {
        "colab": {
          "base_uri": "https://localhost:8080/"
        },
        "id": "IOYh8a8R3Rek",
        "outputId": "92505bb2-8e88-4c83-a905-a2359db863ad"
      },
      "execution_count": null,
      "outputs": [
        {
          "output_type": "execute_result",
          "data": {
            "text/plain": [
              "dict_values([{'nome': 'Leoncio', 'idade': 'trinta', 'masculino': True}])"
            ]
          },
          "metadata": {},
          "execution_count": 208
        }
      ]
    },
    {
      "cell_type": "code",
      "source": [
        "dicionario.keys()"
      ],
      "metadata": {
        "colab": {
          "base_uri": "https://localhost:8080/"
        },
        "id": "-aAE2qi6z6e1",
        "outputId": "6e2c087b-1847-4fb6-fec3-a5f4c076301d"
      },
      "execution_count": null,
      "outputs": [
        {
          "output_type": "execute_result",
          "data": {
            "text/plain": [
              "dict_keys(['chave', 'outra_chave', 1, 'chave_nova'])"
            ]
          },
          "metadata": {},
          "execution_count": 209
        }
      ]
    },
    {
      "cell_type": "code",
      "source": [
        "dicionario ['chave']"
      ],
      "metadata": {
        "colab": {
          "base_uri": "https://localhost:8080/",
          "height": 35
        },
        "id": "C5N3lNikz6cP",
        "outputId": "f1ba9528-474d-4411-e371-e147a28810c7"
      },
      "execution_count": null,
      "outputs": [
        {
          "output_type": "execute_result",
          "data": {
            "text/plain": [
              "'valor'"
            ],
            "application/vnd.google.colaboratory.intrinsic+json": {
              "type": "string"
            }
          },
          "metadata": {},
          "execution_count": 210
        }
      ]
    },
    {
      "cell_type": "code",
      "source": [
        "dicionario ['outra_chave']"
      ],
      "metadata": {
        "colab": {
          "base_uri": "https://localhost:8080/",
          "height": 35
        },
        "id": "U4_-Nwfbz6ZG",
        "outputId": "6e903a4a-8205-49aa-ca49-eb3201026113"
      },
      "execution_count": null,
      "outputs": [
        {
          "output_type": "execute_result",
          "data": {
            "text/plain": [
              "'outro valor'"
            ],
            "application/vnd.google.colaboratory.intrinsic+json": {
              "type": "string"
            }
          },
          "metadata": {},
          "execution_count": 211
        }
      ]
    },
    {
      "cell_type": "code",
      "source": [
        "dicionario [1]"
      ],
      "metadata": {
        "colab": {
          "base_uri": "https://localhost:8080/"
        },
        "id": "zmcrLefAz6VR",
        "outputId": "10a24e8e-32b7-476b-f548-6443eb7a9ed2"
      },
      "execution_count": null,
      "outputs": [
        {
          "output_type": "execute_result",
          "data": {
            "text/plain": [
              "['lista', 'também', 'é', 'valor', ['lista dentro da lista também pode']]"
            ]
          },
          "metadata": {},
          "execution_count": 212
        }
      ]
    },
    {
      "cell_type": "code",
      "source": [
        "dicionario ['chave_nova']"
      ],
      "metadata": {
        "colab": {
          "base_uri": "https://localhost:8080/",
          "height": 35
        },
        "id": "-93spVqrz6SD",
        "outputId": "da6d439a-a884-45d0-cd2f-13bac162719f"
      },
      "execution_count": null,
      "outputs": [
        {
          "output_type": "execute_result",
          "data": {
            "text/plain": [
              "'valor da chave nova'"
            ],
            "application/vnd.google.colaboratory.intrinsic+json": {
              "type": "string"
            }
          },
          "metadata": {},
          "execution_count": 213
        }
      ]
    },
    {
      "cell_type": "code",
      "source": [
        "dicionario.values()"
      ],
      "metadata": {
        "colab": {
          "base_uri": "https://localhost:8080/"
        },
        "id": "UHe075Lfz6Os",
        "outputId": "f83672f7-def1-4ed5-e96e-c2265ba92600"
      },
      "execution_count": null,
      "outputs": [
        {
          "output_type": "execute_result",
          "data": {
            "text/plain": [
              "dict_values(['valor', 'outro valor', ['lista', 'também', 'é', 'valor', ['lista dentro da lista também pode']], 'valor da chave nova'])"
            ]
          },
          "metadata": {},
          "execution_count": 214
        }
      ]
    },
    {
      "cell_type": "code",
      "source": [
        "# mostra as duplas de chave e valor\n",
        "dicionario\n"
      ],
      "metadata": {
        "colab": {
          "base_uri": "https://localhost:8080/"
        },
        "id": "6ceCRnCHz6Db",
        "outputId": "86897f5b-a170-489e-86c2-9d73944f2384"
      },
      "execution_count": null,
      "outputs": [
        {
          "output_type": "execute_result",
          "data": {
            "text/plain": [
              "{'chave': 'valor',\n",
              " 'outra_chave': 'outro valor',\n",
              " 1: ['lista', 'também', 'é', 'valor', ['lista dentro da lista também pode']],\n",
              " 'chave_nova': 'valor da chave nova'}"
            ]
          },
          "metadata": {},
          "execution_count": 216
        }
      ]
    },
    {
      "cell_type": "code",
      "source": [
        "# mostra as duplas de chave e valor através dos itens\n",
        "dicionario.items()"
      ],
      "metadata": {
        "colab": {
          "base_uri": "https://localhost:8080/"
        },
        "id": "NxaiPqrP4YNq",
        "outputId": "5de680c1-b36a-4e3d-89c7-414a3bf2960a"
      },
      "execution_count": null,
      "outputs": [
        {
          "output_type": "execute_result",
          "data": {
            "text/plain": [
              "dict_items([('chave', 'valor'), ('outra_chave', 'outro valor'), (1, ['lista', 'também', 'é', 'valor', ['lista dentro da lista também pode']]), ('chave_nova', 'valor da chave nova')])"
            ]
          },
          "metadata": {},
          "execution_count": 218
        }
      ]
    },
    {
      "cell_type": "markdown",
      "source": [
        "##Intervalos - ranges\n",
        "Range (início, fim e passo)\n",
        "\n",
        "Se passar apenas um número é entendido como fim e o zero é considerado o início."
      ],
      "metadata": {
        "id": "h4XmbV6wPlJr"
      }
    },
    {
      "cell_type": "code",
      "source": [
        "r = range (10)"
      ],
      "metadata": {
        "id": "sOwifVqoPl4K"
      },
      "execution_count": null,
      "outputs": []
    },
    {
      "cell_type": "code",
      "source": [
        "type (r)"
      ],
      "metadata": {
        "colab": {
          "base_uri": "https://localhost:8080/"
        },
        "id": "8BVELHKlPl1T",
        "outputId": "e49c20c3-3874-46fe-ced9-7c01b4f075c2"
      },
      "execution_count": null,
      "outputs": [
        {
          "output_type": "execute_result",
          "data": {
            "text/plain": [
              "range"
            ]
          },
          "metadata": {},
          "execution_count": 4
        }
      ]
    },
    {
      "cell_type": "code",
      "source": [
        "r"
      ],
      "metadata": {
        "colab": {
          "base_uri": "https://localhost:8080/"
        },
        "id": "DsxkowXuPlyP",
        "outputId": "c4a57c8d-e9b1-43cb-ba6c-bcf0fd38ff50"
      },
      "execution_count": null,
      "outputs": [
        {
          "output_type": "execute_result",
          "data": {
            "text/plain": [
              "range(0, 10)"
            ]
          },
          "metadata": {},
          "execution_count": 5
        }
      ]
    },
    {
      "cell_type": "code",
      "source": [
        "list (r) # se quiser ver o que tem dentro do range é só transformar em uma lista"
      ],
      "metadata": {
        "colab": {
          "base_uri": "https://localhost:8080/"
        },
        "id": "RR-UdX-XPlvQ",
        "outputId": "cbe637d7-8e85-4632-9220-28974b455051"
      },
      "execution_count": null,
      "outputs": [
        {
          "output_type": "execute_result",
          "data": {
            "text/plain": [
              "[0, 1, 2, 3, 4, 5, 6, 7, 8, 9]"
            ]
          },
          "metadata": {},
          "execution_count": 6
        }
      ]
    },
    {
      "cell_type": "code",
      "source": [
        "tuple (r) # ou transformar em uma tuple"
      ],
      "metadata": {
        "colab": {
          "base_uri": "https://localhost:8080/"
        },
        "id": "DOiGmBUAPlr0",
        "outputId": "651fbf4e-baf3-4a30-d516-3e11e1dde772"
      },
      "execution_count": null,
      "outputs": [
        {
          "output_type": "execute_result",
          "data": {
            "text/plain": [
              "(0, 1, 2, 3, 4, 5, 6, 7, 8, 9)"
            ]
          },
          "metadata": {},
          "execution_count": 7
        }
      ]
    },
    {
      "cell_type": "code",
      "source": [
        "range (1,15) # aqui é de 1 a 14"
      ],
      "metadata": {
        "colab": {
          "base_uri": "https://localhost:8080/"
        },
        "id": "SVqeudV4Plb9",
        "outputId": "fcb7380b-0acc-4a05-ab33-037014e7041a"
      },
      "execution_count": null,
      "outputs": [
        {
          "output_type": "execute_result",
          "data": {
            "text/plain": [
              "range(1, 15)"
            ]
          },
          "metadata": {},
          "execution_count": 8
        }
      ]
    },
    {
      "cell_type": "code",
      "source": [
        "range (1,15,2) # aqui é de 1 a 14 pulando de 2 em 2"
      ],
      "metadata": {
        "colab": {
          "base_uri": "https://localhost:8080/"
        },
        "id": "eP9WstFXQ06z",
        "outputId": "0e9bd080-9437-431e-ab9c-6857747001bd"
      },
      "execution_count": null,
      "outputs": [
        {
          "output_type": "execute_result",
          "data": {
            "text/plain": [
              "range(1, 15, 2)"
            ]
          },
          "metadata": {},
          "execution_count": 9
        }
      ]
    },
    {
      "cell_type": "code",
      "source": [
        "list (range (1,15,2))"
      ],
      "metadata": {
        "colab": {
          "base_uri": "https://localhost:8080/"
        },
        "id": "Mb1FE2jpRFxZ",
        "outputId": "3451a338-d7e5-4a2c-d46d-8bb68b2c4044"
      },
      "execution_count": null,
      "outputs": [
        {
          "output_type": "execute_result",
          "data": {
            "text/plain": [
              "[1, 3, 5, 7, 9, 11, 13]"
            ]
          },
          "metadata": {},
          "execution_count": 10
        }
      ]
    },
    {
      "cell_type": "code",
      "source": [
        "list (range (10))"
      ],
      "metadata": {
        "colab": {
          "base_uri": "https://localhost:8080/"
        },
        "id": "71gUZhgTRFuY",
        "outputId": "4cb1db81-8fac-447a-eb68-b43a3c681b6e"
      },
      "execution_count": null,
      "outputs": [
        {
          "output_type": "execute_result",
          "data": {
            "text/plain": [
              "[0, 1, 2, 3, 4, 5, 6, 7, 8, 9]"
            ]
          },
          "metadata": {},
          "execution_count": 11
        }
      ]
    },
    {
      "cell_type": "code",
      "source": [
        "list (range (1,15))"
      ],
      "metadata": {
        "colab": {
          "base_uri": "https://localhost:8080/"
        },
        "id": "fQPoRXlyRFrv",
        "outputId": "4264f4f0-01b3-4da6-b9ac-817f4a62d6c0"
      },
      "execution_count": null,
      "outputs": [
        {
          "output_type": "execute_result",
          "data": {
            "text/plain": [
              "[1, 2, 3, 4, 5, 6, 7, 8, 9, 10, 11, 12, 13, 14]"
            ]
          },
          "metadata": {},
          "execution_count": 12
        }
      ]
    },
    {
      "cell_type": "code",
      "source": [
        "list (range (-30,0,3)) # também é possível usar os números negativos"
      ],
      "metadata": {
        "colab": {
          "base_uri": "https://localhost:8080/"
        },
        "id": "N0xIUnhqRFo3",
        "outputId": "a8968a71-537c-41fa-c833-2b081ed2b17c"
      },
      "execution_count": null,
      "outputs": [
        {
          "output_type": "execute_result",
          "data": {
            "text/plain": [
              "[-30, -27, -24, -21, -18, -15, -12, -9, -6, -3]"
            ]
          },
          "metadata": {},
          "execution_count": 13
        }
      ]
    },
    {
      "cell_type": "code",
      "source": [
        "list (range (30,0,-3))"
      ],
      "metadata": {
        "colab": {
          "base_uri": "https://localhost:8080/"
        },
        "id": "Sfp5W71VRFlr",
        "outputId": "f7e4c1a0-e27b-4f78-a77c-9690a2c0b45d"
      },
      "execution_count": null,
      "outputs": [
        {
          "output_type": "execute_result",
          "data": {
            "text/plain": [
              "[30, 27, 24, 21, 18, 15, 12, 9, 6, 3]"
            ]
          },
          "metadata": {},
          "execution_count": 14
        }
      ]
    },
    {
      "cell_type": "code",
      "source": [
        "list (range (10,0,-1))"
      ],
      "metadata": {
        "colab": {
          "base_uri": "https://localhost:8080/"
        },
        "id": "Pp-M69PMRFjC",
        "outputId": "09ca4b54-cf95-4a4a-f13e-c9b21817efe0"
      },
      "execution_count": null,
      "outputs": [
        {
          "output_type": "execute_result",
          "data": {
            "text/plain": [
              "[10, 9, 8, 7, 6, 5, 4, 3, 2, 1]"
            ]
          },
          "metadata": {},
          "execution_count": 15
        }
      ]
    },
    {
      "cell_type": "markdown",
      "source": [
        "##Conversões de tipos compostos"
      ],
      "metadata": {
        "id": "kqymvr2lUiMh"
      }
    },
    {
      "cell_type": "code",
      "source": [
        "conversoes = 1,1,1,2,3,4,5 # quando eu não coloco colchetes, chaves ou parênteses o parâmetro informado é criado como tupla\n",
        "\n",
        "type (conversoes)"
      ],
      "metadata": {
        "colab": {
          "base_uri": "https://localhost:8080/"
        },
        "id": "gNxd9nDQRFgJ",
        "outputId": "29177bd3-3ff5-4f13-cd4e-d72124163264"
      },
      "execution_count": null,
      "outputs": [
        {
          "output_type": "execute_result",
          "data": {
            "text/plain": [
              "tuple"
            ]
          },
          "metadata": {},
          "execution_count": 23
        }
      ]
    },
    {
      "cell_type": "code",
      "source": [
        "conversoes"
      ],
      "metadata": {
        "colab": {
          "base_uri": "https://localhost:8080/"
        },
        "id": "ZToYWb3uRFdO",
        "outputId": "584fa193-ef9e-454e-a8a8-399a3e10eb30"
      },
      "execution_count": null,
      "outputs": [
        {
          "output_type": "execute_result",
          "data": {
            "text/plain": [
              "(1, 1, 1, 2, 3, 4, 5)"
            ]
          },
          "metadata": {},
          "execution_count": 24
        }
      ]
    },
    {
      "cell_type": "code",
      "source": [
        "#conversão de tuple para list\n",
        "\n",
        "conversoes = list (conversoes)\n",
        "\n",
        "type (conversoes)"
      ],
      "metadata": {
        "colab": {
          "base_uri": "https://localhost:8080/"
        },
        "id": "UXZsbbMcRFZ8",
        "outputId": "e15e9e0d-8d3f-49af-a61a-44043ca88ec9"
      },
      "execution_count": null,
      "outputs": [
        {
          "output_type": "execute_result",
          "data": {
            "text/plain": [
              "list"
            ]
          },
          "metadata": {},
          "execution_count": 25
        }
      ]
    },
    {
      "cell_type": "code",
      "source": [
        "conversoes # agora é uma lista, foi alterada"
      ],
      "metadata": {
        "colab": {
          "base_uri": "https://localhost:8080/"
        },
        "id": "cbgnX_NyRFW-",
        "outputId": "1cd5d32a-522b-4bc3-af33-67d97a4ac9c8"
      },
      "execution_count": null,
      "outputs": [
        {
          "output_type": "execute_result",
          "data": {
            "text/plain": [
              "[1, 1, 1, 2, 3, 4, 5]"
            ]
          },
          "metadata": {},
          "execution_count": 26
        }
      ]
    },
    {
      "cell_type": "code",
      "source": [
        "# conversão de list para tuple\n",
        "\n",
        "conversoes = tuple (conversoes)\n",
        "\n",
        "type (conversoes)"
      ],
      "metadata": {
        "colab": {
          "base_uri": "https://localhost:8080/"
        },
        "id": "QEiSeGBpRFRy",
        "outputId": "3380c56b-6fa2-44dd-a81c-9f08554e4938"
      },
      "execution_count": null,
      "outputs": [
        {
          "output_type": "execute_result",
          "data": {
            "text/plain": [
              "tuple"
            ]
          },
          "metadata": {},
          "execution_count": 29
        }
      ]
    },
    {
      "cell_type": "code",
      "source": [
        "conversoes"
      ],
      "metadata": {
        "colab": {
          "base_uri": "https://localhost:8080/"
        },
        "id": "0fWpQ4EoRFO-",
        "outputId": "a701fabb-a63d-4d97-9ed7-dea432cfebb5"
      },
      "execution_count": null,
      "outputs": [
        {
          "output_type": "execute_result",
          "data": {
            "text/plain": [
              "(1, 1, 1, 2, 3, 4, 5)"
            ]
          },
          "metadata": {},
          "execution_count": 28
        }
      ]
    },
    {
      "cell_type": "code",
      "source": [
        "# convertendo tuple para conjunto\n",
        "\n",
        "conversoes = set (conversoes)\n",
        "\n",
        "type (conversoes)"
      ],
      "metadata": {
        "colab": {
          "base_uri": "https://localhost:8080/"
        },
        "id": "rfwUwM7sRFMZ",
        "outputId": "aac80dcb-3feb-4046-8749-cf1604a828af"
      },
      "execution_count": null,
      "outputs": [
        {
          "output_type": "execute_result",
          "data": {
            "text/plain": [
              "set"
            ]
          },
          "metadata": {},
          "execution_count": 30
        }
      ]
    },
    {
      "cell_type": "code",
      "source": [
        "# mudou para conjunto e não tem mais números repetidos\n",
        "conversoes"
      ],
      "metadata": {
        "colab": {
          "base_uri": "https://localhost:8080/"
        },
        "id": "kC0hI39ORFJt",
        "outputId": "eee141d9-e89f-4ace-8ccb-399d51aa6490"
      },
      "execution_count": null,
      "outputs": [
        {
          "output_type": "execute_result",
          "data": {
            "text/plain": [
              "{1, 2, 3, 4, 5}"
            ]
          },
          "metadata": {},
          "execution_count": 31
        }
      ]
    },
    {
      "cell_type": "code",
      "source": [
        "# Converter para dicionário pode? Da forma que foi informado não pode, pois o dicionário recebe chave e valor que são informações em pares\n",
        "dict conversoes"
      ],
      "metadata": {
        "colab": {
          "base_uri": "https://localhost:8080/",
          "height": 106
        },
        "id": "ApLYLFe1RFGo",
        "outputId": "24df1196-de9d-4a95-8cfa-32f49678b414"
      },
      "execution_count": null,
      "outputs": [
        {
          "output_type": "error",
          "ename": "SyntaxError",
          "evalue": "invalid syntax (<ipython-input-32-e6d424f69b59>, line 2)",
          "traceback": [
            "\u001b[0;36m  File \u001b[0;32m\"<ipython-input-32-e6d424f69b59>\"\u001b[0;36m, line \u001b[0;32m2\u001b[0m\n\u001b[0;31m    dict conversoes\u001b[0m\n\u001b[0m         ^\u001b[0m\n\u001b[0;31mSyntaxError\u001b[0m\u001b[0;31m:\u001b[0m invalid syntax\n"
          ]
        }
      ]
    },
    {
      "cell_type": "code",
      "source": [
        "# criando um dicionário a partir de uma lista\n",
        "\n",
        "lista_conversoes = [('mat123', ['lista', 'elemento2']), ('mat234', 'Maria')]\n",
        "\n",
        "type (lista_conversoes)"
      ],
      "metadata": {
        "colab": {
          "base_uri": "https://localhost:8080/"
        },
        "id": "V5fKLFFMRFDv",
        "outputId": "8893cea2-96c5-4461-85b9-27be49104ebb"
      },
      "execution_count": null,
      "outputs": [
        {
          "output_type": "execute_result",
          "data": {
            "text/plain": [
              "list"
            ]
          },
          "metadata": {},
          "execution_count": 34
        }
      ]
    },
    {
      "cell_type": "code",
      "source": [
        "# esse é o primeiro elemento da lista_conversoes\n",
        "\n",
        "lista_conversoes [0]"
      ],
      "metadata": {
        "colab": {
          "base_uri": "https://localhost:8080/"
        },
        "id": "5PB3__OlRFBE",
        "outputId": "1c6319fd-6179-475a-fb0e-129e0aba6624"
      },
      "execution_count": null,
      "outputs": [
        {
          "output_type": "execute_result",
          "data": {
            "text/plain": [
              "('mat123', ['lista', 'elemento2'])"
            ]
          },
          "metadata": {},
          "execution_count": 35
        }
      ]
    },
    {
      "cell_type": "code",
      "source": [
        "# esse é o segundo elemento da lista_conversoes\n",
        "\n",
        "lista_conversoes [1]"
      ],
      "metadata": {
        "colab": {
          "base_uri": "https://localhost:8080/"
        },
        "id": "yJjAojaSRE-H",
        "outputId": "62cc7687-6396-410a-988a-ac2f7d13547a"
      },
      "execution_count": null,
      "outputs": [
        {
          "output_type": "execute_result",
          "data": {
            "text/plain": [
              "('mat234', 'Maria')"
            ]
          },
          "metadata": {},
          "execution_count": 36
        }
      ]
    },
    {
      "cell_type": "code",
      "source": [
        "# convertendo uma lista em dicionário [('mat123', ['lista', 'elemento2']), ('mat234', 'Maria')] que é muito específica e tem uma lista de tuple com chave e valor, assim é possível converter\n",
        "\n",
        "dicionario_conversoes = dict (lista_conversoes)\n",
        "\n",
        "dicionario_conversoes"
      ],
      "metadata": {
        "colab": {
          "base_uri": "https://localhost:8080/"
        },
        "id": "sZpuTpQWRE7Y",
        "outputId": "7bd9284e-bef8-4b8e-f344-04c7cf4119eb"
      },
      "execution_count": null,
      "outputs": [
        {
          "output_type": "execute_result",
          "data": {
            "text/plain": [
              "{'mat123': ['lista', 'elemento2'], 'mat234': 'Maria'}"
            ]
          },
          "metadata": {},
          "execution_count": 37
        }
      ]
    },
    {
      "cell_type": "code",
      "source": [
        "dicionario_conversoes ['mat123']  # chamei a chave para retornar o valor da mesma"
      ],
      "metadata": {
        "colab": {
          "base_uri": "https://localhost:8080/"
        },
        "id": "b5x2LkN3RE4Q",
        "outputId": "bd405702-f564-4091-a8b6-9486196cfdb5"
      },
      "execution_count": null,
      "outputs": [
        {
          "output_type": "execute_result",
          "data": {
            "text/plain": [
              "['lista', 'elemento2']"
            ]
          },
          "metadata": {},
          "execution_count": 39
        }
      ]
    },
    {
      "cell_type": "code",
      "source": [
        "dicionario_conversoes.keys()"
      ],
      "metadata": {
        "colab": {
          "base_uri": "https://localhost:8080/"
        },
        "id": "uD1r91uuaPJk",
        "outputId": "c99e8158-aed2-4293-9fde-10e65dbe0dd3"
      },
      "execution_count": null,
      "outputs": [
        {
          "output_type": "execute_result",
          "data": {
            "text/plain": [
              "dict_keys(['mat123', 'mat234'])"
            ]
          },
          "metadata": {},
          "execution_count": 40
        }
      ]
    },
    {
      "cell_type": "markdown",
      "source": [
        "#Operações em Strings\n",
        "\n",
        "Strings: Sequência de caracteres\n",
        "\n",
        "*   Ricas em métodos e operações disponíveis.\n",
        "*   Delimitadas por aspas simples ' ' ou aspas duplas \" \".\n",
        "*   São imutáveis.\n",
        "\n",
        "Operações básicas\n",
        "\n",
        "*   Concatenação: str1 + str2\n",
        "*   Repetição: str * n\n",
        "*   Indexação: str [index]\n",
        "*   Fatiamento (slice): str[start: end: step]"
      ],
      "metadata": {
        "id": "EMwei-s_el4S"
      }
    },
    {
      "cell_type": "code",
      "source": [
        "# realizando uma concatenação\n",
        "\n",
        "str1 = 'Análise de'\n",
        "str2 = 'Dados'\n",
        "\n",
        "str1 + str2"
      ],
      "metadata": {
        "colab": {
          "base_uri": "https://localhost:8080/",
          "height": 35
        },
        "id": "fQF3jeJPelff",
        "outputId": "ca0222b3-aa95-401d-cfe0-bac2c5d6fc99"
      },
      "execution_count": null,
      "outputs": [
        {
          "output_type": "execute_result",
          "data": {
            "text/plain": [
              "'Análise deDados'"
            ],
            "application/vnd.google.colaboratory.intrinsic+json": {
              "type": "string"
            }
          },
          "metadata": {},
          "execution_count": 48
        }
      ]
    },
    {
      "cell_type": "code",
      "source": [
        "# o resultado acima ficou sem espaço, para resolver isso, é só fazer o seguinte e estará ok\n",
        "\n",
        "str1 + ' ' + str2"
      ],
      "metadata": {
        "colab": {
          "base_uri": "https://localhost:8080/",
          "height": 35
        },
        "id": "9o9Q4cQBaPG0",
        "outputId": "fc8e0d0a-2f03-4937-f3b2-76d8d154b668"
      },
      "execution_count": null,
      "outputs": [
        {
          "output_type": "execute_result",
          "data": {
            "text/plain": [
              "'Análise de Dados'"
            ],
            "application/vnd.google.colaboratory.intrinsic+json": {
              "type": "string"
            }
          },
          "metadata": {},
          "execution_count": 49
        }
      ]
    },
    {
      "cell_type": "code",
      "source": [
        "str3 = 'Inteligência'\n",
        "\n",
        "str3 + ' e ' + str1 + ' ' + str2"
      ],
      "metadata": {
        "colab": {
          "base_uri": "https://localhost:8080/",
          "height": 35
        },
        "id": "dTNbq67DaPD6",
        "outputId": "398d8470-e033-4dfe-f1fe-9c877c94d3a9"
      },
      "execution_count": null,
      "outputs": [
        {
          "output_type": "execute_result",
          "data": {
            "text/plain": [
              "'Inteligência e Análise de Dados'"
            ],
            "application/vnd.google.colaboratory.intrinsic+json": {
              "type": "string"
            }
          },
          "metadata": {},
          "execution_count": 50
        }
      ]
    },
    {
      "cell_type": "code",
      "source": [
        "# para repetir algumas vezes determinada informação, geralmente usa-se o comando a seguir\n",
        "str3 * 3"
      ],
      "metadata": {
        "colab": {
          "base_uri": "https://localhost:8080/",
          "height": 35
        },
        "id": "lIb2j1LuaPBI",
        "outputId": "5ea1dddf-d22b-4e0c-8e90-a0a563112ab2"
      },
      "execution_count": null,
      "outputs": [
        {
          "output_type": "execute_result",
          "data": {
            "text/plain": [
              "'InteligênciaInteligênciaInteligência'"
            ],
            "application/vnd.google.colaboratory.intrinsic+json": {
              "type": "string"
            }
          },
          "metadata": {},
          "execution_count": 52
        }
      ]
    },
    {
      "cell_type": "code",
      "source": [
        "# para acessar o primeiro elemente de alguma informação: Inteligência\n",
        "\n",
        "str3 [1]"
      ],
      "metadata": {
        "colab": {
          "base_uri": "https://localhost:8080/",
          "height": 35
        },
        "id": "wq9bjWZVaO-G",
        "outputId": "d37ea438-358b-4e28-d4a6-f4931074607f"
      },
      "execution_count": null,
      "outputs": [
        {
          "output_type": "execute_result",
          "data": {
            "text/plain": [
              "'n'"
            ],
            "application/vnd.google.colaboratory.intrinsic+json": {
              "type": "string"
            }
          },
          "metadata": {},
          "execution_count": 53
        }
      ]
    },
    {
      "cell_type": "code",
      "source": [
        "# fatiamento de informação: Inteligência\n",
        "\n",
        "str3 [1:4]"
      ],
      "metadata": {
        "colab": {
          "base_uri": "https://localhost:8080/",
          "height": 35
        },
        "id": "gigPe_vQaO0y",
        "outputId": "a65b44e3-8840-4f40-ebcd-a5f478f7c930"
      },
      "execution_count": null,
      "outputs": [
        {
          "output_type": "execute_result",
          "data": {
            "text/plain": [
              "'nte'"
            ],
            "application/vnd.google.colaboratory.intrinsic+json": {
              "type": "string"
            }
          },
          "metadata": {},
          "execution_count": 54
        }
      ]
    },
    {
      "cell_type": "code",
      "source": [
        "# se não colocar a posição quer dizer que irá pegar desde o início: Inteligência\n",
        "\n",
        "str3 [:5]"
      ],
      "metadata": {
        "colab": {
          "base_uri": "https://localhost:8080/",
          "height": 35
        },
        "id": "4l3fkQDPkqZ-",
        "outputId": "df1f6f64-1a49-45e1-cd2e-ad023b731967"
      },
      "execution_count": null,
      "outputs": [
        {
          "output_type": "execute_result",
          "data": {
            "text/plain": [
              "'Intel'"
            ],
            "application/vnd.google.colaboratory.intrinsic+json": {
              "type": "string"
            }
          },
          "metadata": {},
          "execution_count": 55
        }
      ]
    },
    {
      "cell_type": "code",
      "source": [
        "# se não colocar a posição quer dizer que irá pegar o final: Inteligência\n",
        "\n",
        "str3 [3:]"
      ],
      "metadata": {
        "colab": {
          "base_uri": "https://localhost:8080/",
          "height": 35
        },
        "id": "_xdd1hszkqRN",
        "outputId": "4211339f-701e-4d54-c978-ad70a799a690"
      },
      "execution_count": null,
      "outputs": [
        {
          "output_type": "execute_result",
          "data": {
            "text/plain": [
              "'eligência'"
            ],
            "application/vnd.google.colaboratory.intrinsic+json": {
              "type": "string"
            }
          },
          "metadata": {},
          "execution_count": 56
        }
      ]
    },
    {
      "cell_type": "markdown",
      "source": [
        "## Operações de Transformação e Manipulação\n",
        "\n",
        "*   Transformação para maiúsculo: str.upper()\n",
        "*   Transformação para minúsculo: str.lower()\n",
        "*   Divisão por espaços ou caracteres: str.split (sep = None)\n",
        "*   Substituição: str.replace(\"antigo\", \"novo\")"
      ],
      "metadata": {
        "id": "mcBcmFBSlxU6"
      }
    },
    {
      "cell_type": "code",
      "source": [
        "str1.upper()"
      ],
      "metadata": {
        "colab": {
          "base_uri": "https://localhost:8080/",
          "height": 35
        },
        "id": "3HZfOZEQkqOZ",
        "outputId": "d8dc1bee-9f52-4f40-be55-4be19fe33a18"
      },
      "execution_count": null,
      "outputs": [
        {
          "output_type": "execute_result",
          "data": {
            "text/plain": [
              "'ANÁLISE DE'"
            ],
            "application/vnd.google.colaboratory.intrinsic+json": {
              "type": "string"
            }
          },
          "metadata": {},
          "execution_count": 57
        }
      ]
    },
    {
      "cell_type": "code",
      "source": [
        "str1.lower()"
      ],
      "metadata": {
        "colab": {
          "base_uri": "https://localhost:8080/",
          "height": 35
        },
        "id": "iXbU8QO4kqLj",
        "outputId": "5dabb773-18e1-4501-ea5d-d3fd188fb806"
      },
      "execution_count": null,
      "outputs": [
        {
          "output_type": "execute_result",
          "data": {
            "text/plain": [
              "'análise de'"
            ],
            "application/vnd.google.colaboratory.intrinsic+json": {
              "type": "string"
            }
          },
          "metadata": {},
          "execution_count": 58
        }
      ]
    },
    {
      "cell_type": "code",
      "source": [
        "# criando um split de uma string separando por vírgula, se não passa nenhuma informação dentro do parênteses ele separa onde tem espaço em branco\n",
        "\n",
        "nomes = \" Maria, Leo, Leia, Fernando\"\n",
        "\n",
        "nomes.split (',')"
      ],
      "metadata": {
        "colab": {
          "base_uri": "https://localhost:8080/"
        },
        "id": "1IDw2ORvkqFY",
        "outputId": "6c82a62a-4c84-4b07-f689-39a11fb271ca"
      },
      "execution_count": null,
      "outputs": [
        {
          "output_type": "execute_result",
          "data": {
            "text/plain": [
              "[' Maria', ' Leo', ' Leia', ' Fernando']"
            ]
          },
          "metadata": {},
          "execution_count": 60
        }
      ]
    },
    {
      "cell_type": "code",
      "source": [
        "str1.split('e') # como tem dois \"e\" foi separado em dois momentos"
      ],
      "metadata": {
        "colab": {
          "base_uri": "https://localhost:8080/"
        },
        "id": "JAC2oZtxkqIq",
        "outputId": "72717490-c9cf-4194-f2f4-62a565d1f5aa"
      },
      "execution_count": null,
      "outputs": [
        {
          "output_type": "execute_result",
          "data": {
            "text/plain": [
              "['Anális', ' d', '']"
            ]
          },
          "metadata": {},
          "execution_count": 59
        }
      ]
    },
    {
      "cell_type": "code",
      "source": [
        "# trocando o \"e\" pelo \"a\"\n",
        "\n",
        "str1.replace (\"e\", \"a\")"
      ],
      "metadata": {
        "colab": {
          "base_uri": "https://localhost:8080/",
          "height": 35
        },
        "id": "lDqG1h8Lkp9i",
        "outputId": "031f9c20-f72b-4c0f-ee40-482ab89bdf49"
      },
      "execution_count": null,
      "outputs": [
        {
          "output_type": "execute_result",
          "data": {
            "text/plain": [
              "'Análisa da'"
            ],
            "application/vnd.google.colaboratory.intrinsic+json": {
              "type": "string"
            }
          },
          "metadata": {},
          "execution_count": 62
        }
      ]
    },
    {
      "cell_type": "markdown",
      "source": [
        "##Operações de verificação\n",
        "*   Verificar se a string inícia ou finaliza com determinada informação: str.startswith(prefix) e str.endswith(suffix)\n",
        "*   Pesquisar algo dentro da string, encontrar posição: str.find(sub)\n",
        "*   Contar quantas vezes determinado caracter aparece, contar ocorrências: str.count(sub)\n",
        "*   Verificar se uma string está dentro de outra string, verificar se contém: 'sub' in str\n",
        "\n",
        "\n",
        "\n"
      ],
      "metadata": {
        "id": "94toyMZFrWAY"
      }
    },
    {
      "cell_type": "code",
      "source": [
        "str1"
      ],
      "metadata": {
        "colab": {
          "base_uri": "https://localhost:8080/",
          "height": 35
        },
        "id": "9CrFrG8UspCN",
        "outputId": "350902b2-6ac0-46cf-c2be-d8ec27ad8404"
      },
      "execution_count": null,
      "outputs": [
        {
          "output_type": "execute_result",
          "data": {
            "text/plain": [
              "'Análise de'"
            ],
            "application/vnd.google.colaboratory.intrinsic+json": {
              "type": "string"
            }
          },
          "metadata": {},
          "execution_count": 63
        }
      ]
    },
    {
      "cell_type": "code",
      "source": [
        "str1.startswith ('Aná'), str1.startswith ('x')"
      ],
      "metadata": {
        "colab": {
          "base_uri": "https://localhost:8080/"
        },
        "id": "CERI5jH2tuwH",
        "outputId": "c904d181-4cea-409b-adbe-4ae2d45912d7"
      },
      "execution_count": null,
      "outputs": [
        {
          "output_type": "execute_result",
          "data": {
            "text/plain": [
              "(True, False)"
            ]
          },
          "metadata": {},
          "execution_count": 65
        }
      ]
    },
    {
      "cell_type": "code",
      "source": [
        "str1.endswith ('e'), str1.endswith ('n')"
      ],
      "metadata": {
        "colab": {
          "base_uri": "https://localhost:8080/"
        },
        "id": "uw3nJMlytup7",
        "outputId": "54597904-15ea-4113-fbf2-316f281a1d7c"
      },
      "execution_count": null,
      "outputs": [
        {
          "output_type": "execute_result",
          "data": {
            "text/plain": [
              "(True, False)"
            ]
          },
          "metadata": {},
          "execution_count": 68
        }
      ]
    },
    {
      "cell_type": "code",
      "source": [
        "str1.find('x') # não encontrou o x em nenhuma posição, por informa -1 que é uma posição que não existe"
      ],
      "metadata": {
        "colab": {
          "base_uri": "https://localhost:8080/"
        },
        "id": "4kTMaEyhtum4",
        "outputId": "791b35c5-d861-41e3-a64b-6a3edcc69cac"
      },
      "execution_count": null,
      "outputs": [
        {
          "output_type": "execute_result",
          "data": {
            "text/plain": [
              "-1"
            ]
          },
          "metadata": {},
          "execution_count": 72
        }
      ]
    },
    {
      "cell_type": "code",
      "source": [
        "str1.find('l') # encontrou o l na posição 3"
      ],
      "metadata": {
        "colab": {
          "base_uri": "https://localhost:8080/"
        },
        "id": "l3FxDNLKtuaA",
        "outputId": "dcaa71a2-3d61-47c3-8759-5c17104d32e5"
      },
      "execution_count": null,
      "outputs": [
        {
          "output_type": "execute_result",
          "data": {
            "text/plain": [
              "3"
            ]
          },
          "metadata": {},
          "execution_count": 73
        }
      ]
    },
    {
      "cell_type": "code",
      "source": [
        "str1.count('l') # encontrou 1 letra l minúscula"
      ],
      "metadata": {
        "colab": {
          "base_uri": "https://localhost:8080/"
        },
        "id": "Lyfz38IStuXw",
        "outputId": "9173271f-0705-4b6a-9b2a-b79aeac74ec1"
      },
      "execution_count": null,
      "outputs": [
        {
          "output_type": "execute_result",
          "data": {
            "text/plain": [
              "1"
            ]
          },
          "metadata": {},
          "execution_count": 74
        }
      ]
    },
    {
      "cell_type": "code",
      "source": [
        "str1.count('x') # não encontrou nenhuma letra x minúscula"
      ],
      "metadata": {
        "colab": {
          "base_uri": "https://localhost:8080/"
        },
        "id": "IKEm9TvhtuVT",
        "outputId": "e9d05f9b-8ee7-4d20-b7bf-900fc5ffa35b"
      },
      "execution_count": null,
      "outputs": [
        {
          "output_type": "execute_result",
          "data": {
            "text/plain": [
              "0"
            ]
          },
          "metadata": {},
          "execution_count": 75
        }
      ]
    },
    {
      "cell_type": "code",
      "source": [
        "# conta quantas strings \"l\" tem na palavra \"Hello\" que foi informada diretamente e não é uma variável\n",
        "\n",
        "'Hello'.count('l')"
      ],
      "metadata": {
        "colab": {
          "base_uri": "https://localhost:8080/"
        },
        "id": "MOzRcay2tuRb",
        "outputId": "3460902f-853a-426c-b7ff-c8dc2f83dcb0"
      },
      "execution_count": null,
      "outputs": [
        {
          "output_type": "execute_result",
          "data": {
            "text/plain": [
              "2"
            ]
          },
          "metadata": {},
          "execution_count": 76
        }
      ]
    },
    {
      "cell_type": "code",
      "source": [
        "'llo' in 'Hello' # 'llo' está dentro de 'Hello'?Sim"
      ],
      "metadata": {
        "colab": {
          "base_uri": "https://localhost:8080/"
        },
        "id": "aclzcb8-tuNx",
        "outputId": "6f544229-ac60-4299-d5ac-44e59079f376"
      },
      "execution_count": null,
      "outputs": [
        {
          "output_type": "execute_result",
          "data": {
            "text/plain": [
              "True"
            ]
          },
          "metadata": {},
          "execution_count": 78
        }
      ]
    },
    {
      "cell_type": "code",
      "source": [
        "str1"
      ],
      "metadata": {
        "colab": {
          "base_uri": "https://localhost:8080/",
          "height": 35
        },
        "id": "JYmMlLsKtuKV",
        "outputId": "5a28c5ab-31ec-4a00-d0d6-a7ff04e2959e"
      },
      "execution_count": null,
      "outputs": [
        {
          "output_type": "execute_result",
          "data": {
            "text/plain": [
              "'Análise de'"
            ],
            "application/vnd.google.colaboratory.intrinsic+json": {
              "type": "string"
            }
          },
          "metadata": {},
          "execution_count": 80
        }
      ]
    },
    {
      "cell_type": "code",
      "source": [
        "'Aná' in str1"
      ],
      "metadata": {
        "colab": {
          "base_uri": "https://localhost:8080/"
        },
        "id": "I36B1akAwb0j",
        "outputId": "d1ca03c3-6187-4d9a-dcee-53951bffed7b"
      },
      "execution_count": null,
      "outputs": [
        {
          "output_type": "execute_result",
          "data": {
            "text/plain": [
              "True"
            ]
          },
          "metadata": {},
          "execution_count": 82
        }
      ]
    },
    {
      "cell_type": "code",
      "source": [
        "'Ana' in str1 # como está sem o acento, não reconheceu"
      ],
      "metadata": {
        "colab": {
          "base_uri": "https://localhost:8080/"
        },
        "id": "3QyWdVlFwhM7",
        "outputId": "3b74922f-3af0-40e7-863f-dd4dfe48282a"
      },
      "execution_count": null,
      "outputs": [
        {
          "output_type": "execute_result",
          "data": {
            "text/plain": [
              "False"
            ]
          },
          "metadata": {},
          "execution_count": 83
        }
      ]
    },
    {
      "cell_type": "markdown",
      "source": [
        "##Operações de formatação\n",
        "\n",
        "*   Métodos str.format(): \"Hello {}\".format (name) -- está mostrando para conhecimento pois ainda existem muitos códigos com essa referência.\n",
        "\n",
        "*  f-strings (Python 3.6+): f\"Hello {name}\""
      ],
      "metadata": {
        "id": "h-ko3E9dxA-6"
      }
    },
    {
      "cell_type": "code",
      "source": [
        "nome = \"Alice\""
      ],
      "metadata": {
        "id": "J2NtmpuVxhPQ"
      },
      "execution_count": null,
      "outputs": []
    },
    {
      "cell_type": "code",
      "source": [
        " \"Olá, {}!\".format (nome)"
      ],
      "metadata": {
        "colab": {
          "base_uri": "https://localhost:8080/",
          "height": 35
        },
        "id": "0bZZrss7xo6p",
        "outputId": "708e99cf-911f-48df-8e90-4e45a73cf66c"
      },
      "execution_count": null,
      "outputs": [
        {
          "output_type": "execute_result",
          "data": {
            "text/plain": [
              "'Olá, Alice!'"
            ],
            "application/vnd.google.colaboratory.intrinsic+json": {
              "type": "string"
            }
          },
          "metadata": {},
          "execution_count": 88
        }
      ]
    },
    {
      "cell_type": "code",
      "source": [
        "f\"Olá, {nome}!\""
      ],
      "metadata": {
        "colab": {
          "base_uri": "https://localhost:8080/",
          "height": 35
        },
        "id": "FB6rbIywxo4F",
        "outputId": "96d429de-7feb-44f2-f279-c9dd1a7d2fda"
      },
      "execution_count": null,
      "outputs": [
        {
          "output_type": "execute_result",
          "data": {
            "text/plain": [
              "'Olá, Alice!'"
            ],
            "application/vnd.google.colaboratory.intrinsic+json": {
              "type": "string"
            }
          },
          "metadata": {},
          "execution_count": 89
        }
      ]
    },
    {
      "cell_type": "markdown",
      "source": [
        "##Outras Operações\n",
        "\n",
        "*   Remover espaços no início ou final das strings: str.strip()\n",
        "*   Conversão para lista, pega cada caracter e transforma em uma lista: list(str)\n",
        "*   Junção com delimitador, funciona como uma lista: 'delimiter'.join(list)"
      ],
      "metadata": {
        "id": "S2_tBng6x-K2"
      }
    },
    {
      "cell_type": "code",
      "source": [
        "# Muito útil no dia a dia de dados, é super importante para fazer a limpeza antes de usar os dados\n",
        "\n",
        "espaços_str = \" Análise de Dados \"\n",
        "\n",
        "espaços_str.strip()"
      ],
      "metadata": {
        "colab": {
          "base_uri": "https://localhost:8080/",
          "height": 35
        },
        "id": "sd0K6q9nxo1j",
        "outputId": "9ca48f22-c554-46f4-eed8-083de5702aa8"
      },
      "execution_count": null,
      "outputs": [
        {
          "output_type": "execute_result",
          "data": {
            "text/plain": [
              "'Análise de Dados'"
            ],
            "application/vnd.google.colaboratory.intrinsic+json": {
              "type": "string"
            }
          },
          "metadata": {},
          "execution_count": 91
        }
      ]
    },
    {
      "cell_type": "code",
      "source": [
        "# Pega cada caracter e transforma em uma lista\n",
        "list (espaços_str)"
      ],
      "metadata": {
        "colab": {
          "base_uri": "https://localhost:8080/"
        },
        "id": "W2gy7MRWxoyc",
        "outputId": "231f1b71-f1e8-4add-ffe7-6722db8298eb"
      },
      "execution_count": null,
      "outputs": [
        {
          "output_type": "execute_result",
          "data": {
            "text/plain": [
              "[' ',\n",
              " 'A',\n",
              " 'n',\n",
              " 'á',\n",
              " 'l',\n",
              " 'i',\n",
              " 's',\n",
              " 'e',\n",
              " ' ',\n",
              " 'd',\n",
              " 'e',\n",
              " ' ',\n",
              " 'D',\n",
              " 'a',\n",
              " 'd',\n",
              " 'o',\n",
              " 's',\n",
              " ' ']"
            ]
          },
          "metadata": {},
          "execution_count": 92
        }
      ]
    },
    {
      "cell_type": "code",
      "source": [
        "# Defina qual informação será usada incluir na junção da lista e informe, é muito fácil de usar\n",
        "lista_matriculas = ['mat123', 'mat234', 'mat345']\n",
        "\n",
        "' e '.join(lista_matriculas)"
      ],
      "metadata": {
        "colab": {
          "base_uri": "https://localhost:8080/",
          "height": 35
        },
        "id": "uww6J_lXxoue",
        "outputId": "67a2255a-edad-4007-a16f-1704c3c1a05c"
      },
      "execution_count": null,
      "outputs": [
        {
          "output_type": "execute_result",
          "data": {
            "text/plain": [
              "'mat123 e mat234 e mat345'"
            ],
            "application/vnd.google.colaboratory.intrinsic+json": {
              "type": "string"
            }
          },
          "metadata": {},
          "execution_count": 95
        }
      ]
    },
    {
      "cell_type": "code",
      "source": [
        "', '.join(lista_matriculas)"
      ],
      "metadata": {
        "colab": {
          "base_uri": "https://localhost:8080/",
          "height": 35
        },
        "id": "2bAVfF3Hxonc",
        "outputId": "ceca2373-eb38-493f-d1eb-165d93cb4cf0"
      },
      "execution_count": null,
      "outputs": [
        {
          "output_type": "execute_result",
          "data": {
            "text/plain": [
              "'mat123, mat234, mat345'"
            ],
            "application/vnd.google.colaboratory.intrinsic+json": {
              "type": "string"
            }
          },
          "metadata": {},
          "execution_count": 96
        }
      ]
    },
    {
      "cell_type": "code",
      "source": [
        "' e '.join(lista_matriculas) + ' receberam aumento esse mês!'"
      ],
      "metadata": {
        "colab": {
          "base_uri": "https://localhost:8080/",
          "height": 35
        },
        "id": "ldPxN4QT1PUI",
        "outputId": "f6107631-5864-406f-8290-5bc991466dbf"
      },
      "execution_count": null,
      "outputs": [
        {
          "output_type": "execute_result",
          "data": {
            "text/plain": [
              "'mat123 e mat234 e mat345 receberam aumento esse mês!'"
            ],
            "application/vnd.google.colaboratory.intrinsic+json": {
              "type": "string"
            }
          },
          "metadata": {},
          "execution_count": 97
        }
      ]
    },
    {
      "cell_type": "markdown",
      "source": [
        "## Estrutura de decisão em Python\n"
      ],
      "metadata": {
        "id": "9C9UdaQZVJnX"
      }
    },
    {
      "cell_type": "code",
      "source": [
        "x = 3 # aqui é apenas atribuição"
      ],
      "metadata": {
        "id": "OBzYZBtlVNt8"
      },
      "execution_count": null,
      "outputs": []
    },
    {
      "cell_type": "code",
      "source": [
        "x == 3 # aqui é uma comparação"
      ],
      "metadata": {
        "colab": {
          "base_uri": "https://localhost:8080/"
        },
        "id": "izq6zi9DVUmr",
        "outputId": "846b74ee-7e0f-4a35-8707-3f9068e89533"
      },
      "execution_count": null,
      "outputs": [
        {
          "output_type": "execute_result",
          "data": {
            "text/plain": [
              "True"
            ]
          },
          "metadata": {},
          "execution_count": 99
        }
      ]
    },
    {
      "cell_type": "code",
      "source": [
        "x == 2"
      ],
      "metadata": {
        "colab": {
          "base_uri": "https://localhost:8080/"
        },
        "id": "e1Fpr-aCVUjh",
        "outputId": "25871bb3-3538-48c6-ad45-9b95c3bbd14a"
      },
      "execution_count": null,
      "outputs": [
        {
          "output_type": "execute_result",
          "data": {
            "text/plain": [
              "False"
            ]
          },
          "metadata": {},
          "execution_count": 100
        }
      ]
    },
    {
      "cell_type": "code",
      "source": [
        "nome = \"Leon\"\n",
        "\n",
        "if nome == 'Leon':\n",
        "  print('Acertou')"
      ],
      "metadata": {
        "colab": {
          "base_uri": "https://localhost:8080/"
        },
        "id": "VJP5aQwaVUgC",
        "outputId": "6e2be2bf-68b1-47cd-8863-37bfc3fb65ef"
      },
      "execution_count": null,
      "outputs": [
        {
          "output_type": "stream",
          "name": "stdout",
          "text": [
            "Acertou\n"
          ]
        }
      ]
    },
    {
      "cell_type": "code",
      "source": [
        "nome = \"Leoncio\"\n",
        "\n",
        "if nome == \"Leon\":\n",
        "  print ('Acertou')\n",
        "else:\n",
        "  print ('Errou')"
      ],
      "metadata": {
        "colab": {
          "base_uri": "https://localhost:8080/"
        },
        "id": "7HNF8GLVVUdM",
        "outputId": "62a4cdfc-804b-47df-cdef-4751ef116cdd"
      },
      "execution_count": null,
      "outputs": [
        {
          "output_type": "stream",
          "name": "stdout",
          "text": [
            "Errou\n"
          ]
        }
      ]
    },
    {
      "cell_type": "code",
      "source": [
        "x = 10\n",
        "resto = x % 2\n",
        "\n",
        "if resto == 0:\n",
        "  print (f'O número {x} é par!')\n",
        "else:\n",
        "  print (f'O número {x} é ímpar!')"
      ],
      "metadata": {
        "colab": {
          "base_uri": "https://localhost:8080/"
        },
        "id": "UJY9S715VUXr",
        "outputId": "3fa82e1c-99b7-4786-dedf-d9e3e70c187f"
      },
      "execution_count": null,
      "outputs": [
        {
          "output_type": "stream",
          "name": "stdout",
          "text": [
            "O número 10 é par!\n"
          ]
        }
      ]
    },
    {
      "cell_type": "code",
      "source": [
        "x = 121\n",
        "resto = x % 2\n",
        "\n",
        "if resto == 0:\n",
        "  print (f'O número {x} é par!')\n",
        "else:\n",
        "  print (f'O número {x} é ímpar!')"
      ],
      "metadata": {
        "colab": {
          "base_uri": "https://localhost:8080/"
        },
        "id": "_ZEUPz6dVUaW",
        "outputId": "ee24ae45-2c1e-4049-a004-e27674b5cdc1"
      },
      "execution_count": null,
      "outputs": [
        {
          "output_type": "stream",
          "name": "stdout",
          "text": [
            "O número 121 é ímpar!\n"
          ]
        }
      ]
    },
    {
      "cell_type": "code",
      "source": [
        "nota = 5\n",
        "\n",
        "# 5 >= 9 (falso) vai para o próximo teste\n",
        "# 5 >= 7 (falso) vai para o próximo teste\n",
        "# 5 >= 5 (verdadeiro, pois 5 == 5) não vai para o próximo teste e executa o bloco do elif\n",
        "\n",
        "if nota >=9:\n",
        "  print ('Tirou SS!')\n",
        "elif nota >=7:\n",
        "  print ('Tirou MS!')\n",
        "elif nota >=5:\n",
        "  print ('Tirou MM!')\n",
        "else:\n",
        "  print ('Tirou MI!')"
      ],
      "metadata": {
        "colab": {
          "base_uri": "https://localhost:8080/"
        },
        "id": "PoMovUF-VUS6",
        "outputId": "6afe8687-de44-405c-be7d-10fcc00d0cbe"
      },
      "execution_count": null,
      "outputs": [
        {
          "output_type": "stream",
          "name": "stdout",
          "text": [
            "Tirou MM!\n"
          ]
        }
      ]
    },
    {
      "cell_type": "code",
      "source": [
        "nota = 9\n",
        "\n",
        "# 9 >= 9 (verdadeiro) não vai para o próximo teste\n",
        "\n",
        "if nota >=9:\n",
        "  print ('Tirou SS!')\n",
        "elif nota >=7:\n",
        "  print ('Tirou MS!')\n",
        "elif nota >=5:\n",
        "  print ('Tirou MM!')\n",
        "else:\n",
        "  print ('Tirou MI!')"
      ],
      "metadata": {
        "colab": {
          "base_uri": "https://localhost:8080/"
        },
        "id": "jO5y2q9BVUQM",
        "outputId": "1b5b4ad6-ab08-42f6-b78d-c85bfb475fdf"
      },
      "execution_count": null,
      "outputs": [
        {
          "output_type": "stream",
          "name": "stdout",
          "text": [
            "Tirou SS!\n"
          ]
        }
      ]
    },
    {
      "cell_type": "code",
      "source": [
        "nota = 4.8\n",
        "\n",
        "# 4.8 >= 9 (falso) vai para o próximo teste\n",
        "# 4.8 >= 7 (falso) vai para o próximo teste\n",
        "# 4.8 >= 5 (falso) vai para o else que aceita todos os resultados e impremi a mensagem do else\n",
        "\n",
        "if nota >=9:\n",
        "  print ('Tirou SS!')\n",
        "elif nota >=7:\n",
        "  print ('Tirou MS!')\n",
        "elif nota >=5:\n",
        "  print ('Tirou MM!')\n",
        "else:\n",
        "  print ('Tirou MI!')"
      ],
      "metadata": {
        "colab": {
          "base_uri": "https://localhost:8080/"
        },
        "id": "AEMxfKNKVUNS",
        "outputId": "39502896-7345-4f43-db82-5bdea9a4e3da"
      },
      "execution_count": null,
      "outputs": [
        {
          "output_type": "stream",
          "name": "stdout",
          "text": [
            "Tirou MI!\n"
          ]
        }
      ]
    },
    {
      "cell_type": "code",
      "source": [
        "nota = 4.8\n",
        "\n",
        "# 4.8 >= 9 (falso) vai para o próximo teste\n",
        "# 4.8 >= 7 (falso) vai para o próximo teste\n",
        "# 4.8 >= 5 (falso) vai para o próximo teste, porém como não tem próximo, não imprimirá nada\n",
        "\n",
        "if nota >=9:\n",
        "  print ('Tirou SS!')\n",
        "elif nota >=7:\n",
        "  print ('Tirou MS!')\n",
        "elif nota >=5:\n",
        "  print ('Tirou MM!')"
      ],
      "metadata": {
        "id": "eGgL7lgCVUKc"
      },
      "execution_count": null,
      "outputs": []
    },
    {
      "cell_type": "code",
      "source": [
        "listas_clientes = ['joao', 'maria', 'joana', 'ana']\n",
        "\n",
        "cliente = 'ana'\n",
        "\n",
        "if cliente in listas_clientes:\n",
        "  print(f'{cliente} está na lista!')\n",
        "else:\n",
        "  print(f'{cliente} não está na lista!')"
      ],
      "metadata": {
        "colab": {
          "base_uri": "https://localhost:8080/"
        },
        "id": "D16JxxdcVUHj",
        "outputId": "71af00cb-e69f-4b0a-9a4c-2334ceac673e"
      },
      "execution_count": null,
      "outputs": [
        {
          "output_type": "stream",
          "name": "stdout",
          "text": [
            "ana está na lista!\n"
          ]
        }
      ]
    },
    {
      "cell_type": "code",
      "source": [
        "listas_clientes = ['joao', 'maria', 'joana', 'ana']\n",
        "\n",
        "cliente = 'jose'\n",
        "\n",
        "if cliente in listas_clientes:\n",
        "  print(f'{cliente} está na lista!')\n",
        "else:\n",
        "  print(f'{cliente} não está na lista!')"
      ],
      "metadata": {
        "colab": {
          "base_uri": "https://localhost:8080/"
        },
        "id": "G39W1rcSVUEg",
        "outputId": "58c25cfb-9925-49ba-bcd1-685bd8a1b4c5"
      },
      "execution_count": null,
      "outputs": [
        {
          "output_type": "stream",
          "name": "stdout",
          "text": [
            "jose não está na lista!\n"
          ]
        }
      ]
    },
    {
      "cell_type": "code",
      "source": [
        "conjunto = {1,3,5,7}\n",
        "\n",
        "elemento = 3\n",
        "\n",
        "if elemento in conjunto:\n",
        "  print(f'Elemento {elemento} está no conjunto!')\n",
        "else:\n",
        "   print(f'Elemento {elemento} não está no conjunto!')"
      ],
      "metadata": {
        "colab": {
          "base_uri": "https://localhost:8080/"
        },
        "id": "RVuP3OtKVT8U",
        "outputId": "6496e97a-2820-48cc-a8d4-6a6ef67c9236"
      },
      "execution_count": null,
      "outputs": [
        {
          "output_type": "stream",
          "name": "stdout",
          "text": [
            "Elemento 3 está no conjunto!\n"
          ]
        }
      ]
    },
    {
      "cell_type": "code",
      "source": [
        "tupla = (1,3,5,7)\n",
        "\n",
        "if 10 in tupla:\n",
        "  print('10 está na tupla!')\n",
        "else:\n",
        "  print('10 não está na tupla!')"
      ],
      "metadata": {
        "colab": {
          "base_uri": "https://localhost:8080/"
        },
        "id": "cQ7fhPKsdAmj",
        "outputId": "e60d7f6b-10e1-49ff-ffb4-3fa0b40eceab"
      },
      "execution_count": null,
      "outputs": [
        {
          "output_type": "stream",
          "name": "stdout",
          "text": [
            "10 não está na tupla!\n"
          ]
        }
      ]
    },
    {
      "cell_type": "code",
      "source": [
        "dicionario_clientes = {1: 'joao', 2:'maria', 5:'jose', 7: 'ana'}\n",
        "\n",
        "codigo_cliente = 5 # a busca é feita nas chaves e não no valor, por isso haverá o retorno que está na chave\n",
        "\n",
        "if codigo_cliente in dicionario_clientes:\n",
        "  print(f'{codigo_cliente} está nas CHAVES do dicionário!')\n",
        "else:\n",
        "  print(f'{codigo_cliente} não está nas CHAVES do dicionário!')"
      ],
      "metadata": {
        "colab": {
          "base_uri": "https://localhost:8080/"
        },
        "id": "YCk1wiNrdAjp",
        "outputId": "2eeb7d4d-d4fe-47ca-b40a-2aaee9aa0235"
      },
      "execution_count": null,
      "outputs": [
        {
          "output_type": "stream",
          "name": "stdout",
          "text": [
            "5 está nas CHAVES do dicionário!\n"
          ]
        }
      ]
    },
    {
      "cell_type": "code",
      "source": [
        "if 'joao' in dicionario_clientes:\n",
        "  print('Está nas CHAVES do dicionário!')\n",
        "else:\n",
        "  print('Não está nas CHAVES do dicionário!')"
      ],
      "metadata": {
        "colab": {
          "base_uri": "https://localhost:8080/"
        },
        "id": "SexU45xCdAgx",
        "outputId": "7e298c09-647c-474d-f1e4-8a66a22b72ea"
      },
      "execution_count": null,
      "outputs": [
        {
          "output_type": "stream",
          "name": "stdout",
          "text": [
            "Não está nas CHAVES do dicionário!\n"
          ]
        }
      ]
    },
    {
      "cell_type": "code",
      "source": [
        "if 'joao' in dicionario_clientes.values():\n",
        "  print('João está nos VALORES do dicionário!')\n",
        "else:\n",
        "  print('João não está nos VALORES do dicionário!')"
      ],
      "metadata": {
        "colab": {
          "base_uri": "https://localhost:8080/"
        },
        "id": "1pQu74jxdAdc",
        "outputId": "f987511e-e6fa-450d-cb3e-03f82cbd9a23"
      },
      "execution_count": null,
      "outputs": [
        {
          "output_type": "stream",
          "name": "stdout",
          "text": [
            "João está nos VALORES do dicionário!\n"
          ]
        }
      ]
    },
    {
      "cell_type": "markdown",
      "source": [
        "## Estrutura de repetição - for"
      ],
      "metadata": {
        "id": "8ncG2e52k2AR"
      }
    },
    {
      "cell_type": "code",
      "source": [
        "range (7)"
      ],
      "metadata": {
        "colab": {
          "base_uri": "https://localhost:8080/"
        },
        "id": "YOrKqD78dAX5",
        "outputId": "64d8a0d7-a2e4-40ed-e14b-9040852e1e11"
      },
      "execution_count": null,
      "outputs": [
        {
          "output_type": "execute_result",
          "data": {
            "text/plain": [
              "range(0, 7)"
            ]
          },
          "metadata": {},
          "execution_count": 139
        }
      ]
    },
    {
      "cell_type": "code",
      "source": [
        "list (range (7))"
      ],
      "metadata": {
        "colab": {
          "base_uri": "https://localhost:8080/"
        },
        "id": "5O7BS1kbsYDr",
        "outputId": "02177674-73d4-4833-8deb-cc8641511606"
      },
      "execution_count": null,
      "outputs": [
        {
          "output_type": "execute_result",
          "data": {
            "text/plain": [
              "[0, 1, 2, 3, 4, 5, 6]"
            ]
          },
          "metadata": {},
          "execution_count": 141
        }
      ]
    },
    {
      "cell_type": "code",
      "source": [
        "for i in range (7):    # para cada elemento (i) dentro (in) desse range print 7 vezes\n",
        "  print('Gol da Alemanha!')\n",
        "\n",
        "print ('Gol do Brasil!') # como está fora do for, sempre será executado uma vez"
      ],
      "metadata": {
        "colab": {
          "base_uri": "https://localhost:8080/"
        },
        "id": "ITqSZFSndAa4",
        "outputId": "df59c308-1f11-46e0-8370-90829e177c6d"
      },
      "execution_count": null,
      "outputs": [
        {
          "output_type": "stream",
          "name": "stdout",
          "text": [
            "Gol da Alemanha!\n",
            "Gol da Alemanha!\n",
            "Gol da Alemanha!\n",
            "Gol da Alemanha!\n",
            "Gol da Alemanha!\n",
            "Gol da Alemanha!\n",
            "Gol da Alemanha!\n",
            "Gol do Brasil!\n"
          ]
        }
      ]
    },
    {
      "cell_type": "code",
      "source": [
        "lista_alunos = ['joao', 'maria', 'jose', 'marta']\n",
        "\n",
        "for aluno in lista_alunos:  # para cada aluno que está na lista_alunos imprima aluno\n",
        "  print (aluno)"
      ],
      "metadata": {
        "colab": {
          "base_uri": "https://localhost:8080/"
        },
        "id": "r_VGxyM9dAUj",
        "outputId": "a66422c3-f307-4c22-b821-7ba35bfb0ada"
      },
      "execution_count": null,
      "outputs": [
        {
          "output_type": "stream",
          "name": "stdout",
          "text": [
            "joao\n",
            "maria\n",
            "jose\n",
            "marta\n"
          ]
        }
      ]
    },
    {
      "cell_type": "code",
      "source": [
        "conjunto_alunos = set (['joao' , 'maria', 'jose', 'marta']) # é uma lista convertida em conjunto, ao retornar a informação não terá ordem definida uma vez que segue as regras do conjunto e não terá repetido\n",
        "\n",
        "for aluno in conjunto_alunos:  # para cada aluno que está no conjunto_alunos imprima aluno\n",
        "  print (aluno)"
      ],
      "metadata": {
        "colab": {
          "base_uri": "https://localhost:8080/"
        },
        "id": "XQp3gUVEdCSR",
        "outputId": "f7631c36-c010-4c46-a1bd-4301f429d5f9"
      },
      "execution_count": null,
      "outputs": [
        {
          "output_type": "stream",
          "name": "stdout",
          "text": [
            "joao\n",
            "maria\n",
            "jose\n",
            "marta\n"
          ]
        }
      ]
    },
    {
      "cell_type": "code",
      "source": [
        "tupla_alunos = ('joao', 'maria', 'jose', 'marta')\n",
        "\n",
        "for aluno in tupla_alunos:  # para cada aluno que está na tupla_alunos imprima aluno\n",
        "  print (aluno)"
      ],
      "metadata": {
        "colab": {
          "base_uri": "https://localhost:8080/"
        },
        "id": "--VuBAemdCPX",
        "outputId": "5143cae3-57d7-4cb6-d717-0fc2702c5377"
      },
      "execution_count": null,
      "outputs": [
        {
          "output_type": "stream",
          "name": "stdout",
          "text": [
            "joao\n",
            "maria\n",
            "jose\n",
            "marta\n"
          ]
        }
      ]
    },
    {
      "cell_type": "code",
      "source": [
        "tupla_alunos = ('joao', 'maria', 'jose', 'marta')\n",
        "\n",
        "quantidade_alunos = len(tupla_alunos)\n",
        "\n",
        "for i in range (quantidade_alunos):  # para cada aluno que está na tupla_alunos imprima aluno\n",
        "  print (tupla_alunos [1])"
      ],
      "metadata": {
        "colab": {
          "base_uri": "https://localhost:8080/"
        },
        "id": "0gTYMk8vdCMY",
        "outputId": "0170c345-d19a-4a52-e602-6349fc12a57a"
      },
      "execution_count": null,
      "outputs": [
        {
          "output_type": "stream",
          "name": "stdout",
          "text": [
            "maria\n",
            "maria\n",
            "maria\n",
            "maria\n"
          ]
        }
      ]
    },
    {
      "cell_type": "markdown",
      "source": [
        "## Estrutura de repetição - while"
      ],
      "metadata": {
        "id": "R4QwTp2g1Ta3"
      }
    },
    {
      "cell_type": "code",
      "source": [
        "cardapio = [ 'frango a kiev',\n",
        "            'filet',\n",
        "            'bolinho de bacalhau',\n",
        "            'batata frita',\n",
        "            'camarão',\n",
        "            'costela ao molho barbecue']\n",
        "\n",
        "item = cardapio.pop(0) # o pop(0) entra no cardápio e retira o primeiro item  que será verificado se é ou não camarão\n",
        "\n",
        "while item != 'camarão':  # While sempre tem que alterar o estado dentro da estrutura, quando encontra a informação procurada, o while termina\n",
        "  print(f'O item {item} não é um camarão! Onde está o camarão?')\n",
        "  item = cardapio.pop(0)"
      ],
      "metadata": {
        "colab": {
          "base_uri": "https://localhost:8080/"
        },
        "id": "Y5I9vyQ7dCJB",
        "outputId": "3dd544f4-2248-4d19-9235-45aa1bcfeb6d"
      },
      "execution_count": null,
      "outputs": [
        {
          "output_type": "stream",
          "name": "stdout",
          "text": [
            "O item frango a kiev não é um camarão! Onde está o camarão?\n",
            "O item filet não é um camarão! Onde está o camarão?\n",
            "O item bolinho de bacalhau não é um camarão! Onde está o camarão?\n",
            "O item batata frita não é um camarão! Onde está o camarão?\n"
          ]
        }
      ]
    },
    {
      "cell_type": "code",
      "source": [
        "# Função gera número pseudoaleatórios\n",
        "\n",
        "from random import randint"
      ],
      "metadata": {
        "id": "olNmJaAwdCFg"
      },
      "execution_count": null,
      "outputs": []
    },
    {
      "cell_type": "code",
      "source": [
        "numero = randint (1,10)\n",
        "\n",
        "while numero != 5:\n",
        "  print (f'{numero} não é 5')\n",
        "  numero = randint   # aqui acontece a alteração do estado"
      ],
      "metadata": {
        "id": "oE85qiUu61AR"
      },
      "execution_count": null,
      "outputs": []
    },
    {
      "cell_type": "markdown",
      "source": [
        "##Funções\n"
      ],
      "metadata": {
        "id": "jz8v9_E5EApl"
      }
    },
    {
      "cell_type": "code",
      "source": [
        "# Somente a definição da função, não executa nada, só define\n",
        "\n",
        "# def é a palavra-chave do Python para criar uma função\n",
        "# calcula_cubo é o nome da função que vai ser utlizada na hora de chamar o que for definido\n",
        "# x é o parâmentro que a função recebe (pode receber 0 ou mais parâmetros)\n",
        "\n",
        "def calcula_cubo (x):\n",
        "    return x **3"
      ],
      "metadata": {
        "id": "jAO0h5pDEARy"
      },
      "execution_count": null,
      "outputs": []
    },
    {
      "cell_type": "code",
      "source": [
        "calcula_cubo (2)  # o calculo é 2 ** 3, ou seja, 2 x 2 x 2, o resultado é 8"
      ],
      "metadata": {
        "colab": {
          "base_uri": "https://localhost:8080/"
        },
        "id": "HDuc9IgXEAPD",
        "outputId": "09434920-a85d-487d-9f71-5e4cf2ab2427"
      },
      "execution_count": null,
      "outputs": [
        {
          "output_type": "execute_result",
          "data": {
            "text/plain": [
              "8"
            ]
          },
          "metadata": {},
          "execution_count": 15
        }
      ]
    },
    {
      "cell_type": "code",
      "source": [
        "y = calcula_cubo (5)  # pode ser usado em uma variável\n",
        "\n",
        "y"
      ],
      "metadata": {
        "colab": {
          "base_uri": "https://localhost:8080/"
        },
        "id": "P4P5UPGPEAME",
        "outputId": "f4860e11-84f2-4c4c-bc44-f4ec4ecc6e10"
      },
      "execution_count": null,
      "outputs": [
        {
          "output_type": "execute_result",
          "data": {
            "text/plain": [
              "125"
            ]
          },
          "metadata": {},
          "execution_count": 16
        }
      ]
    },
    {
      "cell_type": "code",
      "source": [
        "calcula_cubo (10)  # também pode imprimir direto"
      ],
      "metadata": {
        "colab": {
          "base_uri": "https://localhost:8080/"
        },
        "id": "MOCP_NmrEAJV",
        "outputId": "68bbfa4c-60ca-4319-e979-6b7d6f1f75cc"
      },
      "execution_count": null,
      "outputs": [
        {
          "output_type": "execute_result",
          "data": {
            "text/plain": [
              "1000"
            ]
          },
          "metadata": {},
          "execution_count": 17
        }
      ]
    },
    {
      "cell_type": "code",
      "source": [
        "# Definição de uma outra função que retorna mais de uma valor de um vez\n",
        "\n",
        "def calcula_quadrado_e_cubo (x):\n",
        "  return x ** 2, x ** 3  # aqui o Python empacotou o retorno em tuple"
      ],
      "metadata": {
        "id": "rDcFzEO_EAGU"
      },
      "execution_count": null,
      "outputs": []
    },
    {
      "cell_type": "code",
      "source": [
        "# Pode receber já separado\n",
        "\n",
        "quadrado, cubo = calcula_quadrado_e_cubo(5)"
      ],
      "metadata": {
        "id": "d6MY6k7lEACm"
      },
      "execution_count": null,
      "outputs": []
    },
    {
      "cell_type": "code",
      "source": [
        "quadrado # aqui está recebendo o resultado separado que é 5 ** 5"
      ],
      "metadata": {
        "colab": {
          "base_uri": "https://localhost:8080/"
        },
        "id": "8oPO5f9tD_7n",
        "outputId": "7ff2d6d6-6172-4aa4-97bc-cef07d6c4b2b"
      },
      "execution_count": null,
      "outputs": [
        {
          "output_type": "execute_result",
          "data": {
            "text/plain": [
              "25"
            ]
          },
          "metadata": {},
          "execution_count": 13
        }
      ]
    },
    {
      "cell_type": "code",
      "source": [
        "cubo # aqui está recebendo o resultado separado que é 5 *** 5"
      ],
      "metadata": {
        "colab": {
          "base_uri": "https://localhost:8080/"
        },
        "id": "UI1nifAV622g",
        "outputId": "e661325b-7ead-4d38-9af7-15dac8623072"
      },
      "execution_count": null,
      "outputs": [
        {
          "output_type": "execute_result",
          "data": {
            "text/plain": [
              "125"
            ]
          },
          "metadata": {},
          "execution_count": 20
        }
      ]
    },
    {
      "cell_type": "code",
      "source": [
        "tupla_com_resultado = calcula_quadrado_e_cubo(5)\n",
        "\n",
        "tupla_com_resultado"
      ],
      "metadata": {
        "colab": {
          "base_uri": "https://localhost:8080/"
        },
        "id": "W1p4bPgiJaD_",
        "outputId": "25338bca-4a96-4d6a-f5dd-465cc0591651"
      },
      "execution_count": null,
      "outputs": [
        {
          "output_type": "execute_result",
          "data": {
            "text/plain": [
              "(25, 125)"
            ]
          },
          "metadata": {},
          "execution_count": 23
        }
      ]
    },
    {
      "cell_type": "code",
      "source": [
        "type (tupla_com_resultado)"
      ],
      "metadata": {
        "colab": {
          "base_uri": "https://localhost:8080/"
        },
        "id": "4NPJxPWBJaAw",
        "outputId": "050f109c-2764-433b-fcd9-9ad2be43afcb"
      },
      "execution_count": null,
      "outputs": [
        {
          "output_type": "execute_result",
          "data": {
            "text/plain": [
              "tuple"
            ]
          },
          "metadata": {},
          "execution_count": 24
        }
      ]
    },
    {
      "cell_type": "code",
      "source": [
        "# Definindo uma função com valores padrão para os parâmentros\n",
        "def funcao_valores_definidos(ano=2020, mes=1):   # é possível criar valor default, que se não for passado nenhum parâmetro o Python irá pegar o valor definido anteriormente\n",
        "  return ano, mes"
      ],
      "metadata": {
        "id": "J9uEO6GpJZ8v"
      },
      "execution_count": null,
      "outputs": []
    },
    {
      "cell_type": "code",
      "source": [
        "funcao_valores_definidos () # retornou os valores definifidos anteriormente"
      ],
      "metadata": {
        "colab": {
          "base_uri": "https://localhost:8080/"
        },
        "id": "fLg4sA_XJZ2w",
        "outputId": "72b8682b-b03e-4023-af33-41f4af30ce5f"
      },
      "execution_count": null,
      "outputs": [
        {
          "output_type": "execute_result",
          "data": {
            "text/plain": [
              "(2020, 1)"
            ]
          },
          "metadata": {},
          "execution_count": 26
        }
      ]
    },
    {
      "cell_type": "code",
      "source": [
        "funcao_valores_definidos(ano=2023, mes=9)  # aqui os valores foram modificados e estão substituindo os valores informados anteriormente"
      ],
      "metadata": {
        "colab": {
          "base_uri": "https://localhost:8080/"
        },
        "id": "mQybk_56JZxC",
        "outputId": "f71fb319-4328-4f78-f0d2-7f84cc6f86f2"
      },
      "execution_count": null,
      "outputs": [
        {
          "output_type": "execute_result",
          "data": {
            "text/plain": [
              "(2023, 9)"
            ]
          },
          "metadata": {},
          "execution_count": 27
        }
      ]
    },
    {
      "cell_type": "code",
      "source": [
        "def retira_acentos (texto):\n",
        "  texto = texto.replace('á','a')\n",
        "  texto = texto.replace('é','e')\n",
        "  texto = texto.replace('í','i')\n",
        "  texto = texto.replace('Í','I')\n",
        "\n",
        "  return texto"
      ],
      "metadata": {
        "id": "4wWVTf4BJZpg"
      },
      "execution_count": null,
      "outputs": []
    },
    {
      "cell_type": "code",
      "source": [
        "retira_acentos('Pátria')"
      ],
      "metadata": {
        "colab": {
          "base_uri": "https://localhost:8080/",
          "height": 35
        },
        "id": "95vbVY71Mxz7",
        "outputId": "ec470919-59b5-4947-aac0-1dced2a058ef"
      },
      "execution_count": null,
      "outputs": [
        {
          "output_type": "execute_result",
          "data": {
            "text/plain": [
              "'Patria'"
            ],
            "application/vnd.google.colaboratory.intrinsic+json": {
              "type": "string"
            }
          },
          "metadata": {},
          "execution_count": 30
        }
      ]
    },
    {
      "cell_type": "code",
      "source": [
        "retira_acentos('Férias')"
      ],
      "metadata": {
        "colab": {
          "base_uri": "https://localhost:8080/",
          "height": 35
        },
        "id": "jOhZxUOdM5_v",
        "outputId": "4e51db3f-4451-475a-b20b-50fed4e43943"
      },
      "execution_count": null,
      "outputs": [
        {
          "output_type": "execute_result",
          "data": {
            "text/plain": [
              "'Ferias'"
            ],
            "application/vnd.google.colaboratory.intrinsic+json": {
              "type": "string"
            }
          },
          "metadata": {},
          "execution_count": 31
        }
      ]
    },
    {
      "cell_type": "code",
      "source": [
        "retira_acentos('Índio')"
      ],
      "metadata": {
        "colab": {
          "base_uri": "https://localhost:8080/",
          "height": 35
        },
        "id": "AIysUpG3M_Pg",
        "outputId": "27826d78-89fc-46d6-a6c1-a9cb2e67ee6a"
      },
      "execution_count": null,
      "outputs": [
        {
          "output_type": "execute_result",
          "data": {
            "text/plain": [
              "'Indio'"
            ],
            "application/vnd.google.colaboratory.intrinsic+json": {
              "type": "string"
            }
          },
          "metadata": {},
          "execution_count": 35
        }
      ]
    },
    {
      "cell_type": "markdown",
      "source": [
        "## List Comprehension\n",
        "\n",
        "Facilita a criação de coisas específicas onde o obejtivo é iterar ou criar novas listas"
      ],
      "metadata": {
        "id": "AWX28ABkpmI2"
      }
    },
    {
      "cell_type": "code",
      "source": [
        "list = []\n",
        "\n",
        "for i in range (10):\n",
        "    list.append(i)\n",
        "\n",
        "list"
      ],
      "metadata": {
        "colab": {
          "base_uri": "https://localhost:8080/"
        },
        "id": "ZJrtX1ezqjeX",
        "outputId": "c403ab77-6662-489c-de90-6ecb9d27fe7c"
      },
      "execution_count": null,
      "outputs": [
        {
          "output_type": "execute_result",
          "data": {
            "text/plain": [
              "[0, 1, 2, 3, 4, 5, 6, 7, 8, 9]"
            ]
          },
          "metadata": {},
          "execution_count": 6
        }
      ]
    },
    {
      "cell_type": "code",
      "source": [
        "list = [ i for i in range (50) if i%2 == 1 and i%5 == 0 ]\n",
        "\n",
        "list"
      ],
      "metadata": {
        "colab": {
          "base_uri": "https://localhost:8080/"
        },
        "id": "9y-PXWRJ0so5",
        "outputId": "16a5e32b-3bd3-4ef7-dcae-c83eb6066791"
      },
      "execution_count": null,
      "outputs": [
        {
          "output_type": "execute_result",
          "data": {
            "text/plain": [
              "[5, 15, 25, 35, 45]"
            ]
          },
          "metadata": {},
          "execution_count": 24
        }
      ]
    },
    {
      "cell_type": "code",
      "source": [
        "list = [i for i in range(10)]    # aqui estou transformando a lista anterior em uma lista mais resumida, reduzindo o código\n",
        "\n",
        "list"
      ],
      "metadata": {
        "colab": {
          "base_uri": "https://localhost:8080/"
        },
        "id": "RoPVEQDJxzvb",
        "outputId": "e3b7f5bc-2d47-4d7e-a0af-e89afeaae8c5"
      },
      "execution_count": null,
      "outputs": [
        {
          "output_type": "execute_result",
          "data": {
            "text/plain": [
              "[0, 1, 2, 3, 4, 5, 6, 7, 8, 9]"
            ]
          },
          "metadata": {},
          "execution_count": 11
        }
      ]
    },
    {
      "cell_type": "code",
      "source": [
        "# criamos a lista\n",
        "\n",
        "lista_de_numeros_pares_ao_quadrado = []\n",
        "\n",
        "# iterações (estrutura de repetição)\n",
        "\n",
        "for i in range (20):\n",
        "  # teste se é par\n",
        "  if i % 2 == 0:\n",
        "      #incluir na lista transformando o i em seu quadrado\n",
        "      lista_de_numeros_pares_ao_quadrado.append(i**2)\n",
        "\n",
        "lista_de_numeros_pares_ao_quadrado"
      ],
      "metadata": {
        "colab": {
          "base_uri": "https://localhost:8080/"
        },
        "id": "DbxYn7nsxzsp",
        "outputId": "c4308ecf-7bce-4820-d247-e3bb579bc51c"
      },
      "execution_count": null,
      "outputs": [
        {
          "output_type": "execute_result",
          "data": {
            "text/plain": [
              "[0, 4, 16, 36, 64, 100, 144, 196, 256, 324]"
            ]
          },
          "metadata": {},
          "execution_count": 34
        }
      ]
    },
    {
      "cell_type": "code",
      "source": [
        "# aqui estou transformando a lista anterior em uma lista mais resumida, reduzindo o código\n",
        "\n",
        "lista_de_numeros_pares_ao_quadrado = [i ** 2 for i in range (20) if i % 2 == 0]\n",
        "\n",
        "lista_de_numeros_pares_ao_quadrado"
      ],
      "metadata": {
        "colab": {
          "base_uri": "https://localhost:8080/"
        },
        "id": "NVaY9PKYxzp4",
        "outputId": "77ccef93-9dd3-456c-a20a-7b1f8a72663f"
      },
      "execution_count": null,
      "outputs": [
        {
          "output_type": "execute_result",
          "data": {
            "text/plain": [
              "[0, 4, 16, 36, 64, 100, 144, 196, 256, 324]"
            ]
          },
          "metadata": {},
          "execution_count": 37
        }
      ]
    },
    {
      "cell_type": "markdown",
      "source": [
        "## 3 Etapas\n",
        "\n",
        "Parte 1: Transformação\n",
        "\n",
        "Parte 2: Iteração\n",
        "\n",
        "Parte 3: Testes condicionais"
      ],
      "metadata": {
        "id": "tF8BfHDc3KZD"
      }
    },
    {
      "cell_type": "code",
      "source": [
        "# código normal\n",
        "\n",
        "[i for i in range (10)]"
      ],
      "metadata": {
        "colab": {
          "base_uri": "https://localhost:8080/"
        },
        "id": "Qs4iw5dpxzkS",
        "outputId": "082e4cfe-9739-4be3-9ca7-4fa0612ec1e3"
      },
      "execution_count": null,
      "outputs": [
        {
          "output_type": "execute_result",
          "data": {
            "text/plain": [
              "[0, 1, 2, 3, 4, 5, 6, 7, 8, 9]"
            ]
          },
          "metadata": {},
          "execution_count": 39
        }
      ]
    },
    {
      "cell_type": "code",
      "source": [
        "# transformando o i**2\n",
        "\n",
        "[0,1,4,9,16,25,36,49,64,81]"
      ],
      "metadata": {
        "colab": {
          "base_uri": "https://localhost:8080/"
        },
        "id": "DPZP0MOWxzhf",
        "outputId": "4cc5bccf-bd68-434c-e5da-1ec015a9515f"
      },
      "execution_count": null,
      "outputs": [
        {
          "output_type": "execute_result",
          "data": {
            "text/plain": [
              "[0, 1, 4, 9, 16, 25, 36, 49, 64, 81]"
            ]
          },
          "metadata": {},
          "execution_count": 40
        }
      ]
    },
    {
      "cell_type": "code",
      "source": [
        "# lista de elementos de duplas com um valor e o seu próximo valor\n",
        "\n",
        "[(i, i+1) for i in range (10)]"
      ],
      "metadata": {
        "colab": {
          "base_uri": "https://localhost:8080/"
        },
        "id": "3N6iDwZBxzeo",
        "outputId": "10dda341-1d00-48a1-e682-d807d94014ba"
      },
      "execution_count": null,
      "outputs": [
        {
          "output_type": "execute_result",
          "data": {
            "text/plain": [
              "[(0, 1),\n",
              " (1, 2),\n",
              " (2, 3),\n",
              " (3, 4),\n",
              " (4, 5),\n",
              " (5, 6),\n",
              " (6, 7),\n",
              " (7, 8),\n",
              " (8, 9),\n",
              " (9, 10)]"
            ]
          },
          "metadata": {},
          "execution_count": 42
        }
      ]
    },
    {
      "cell_type": "code",
      "source": [
        "# um exemplo de lista de nomes\n",
        "\n",
        "lista_nomes = ['Leo Silva', 'Bernardo Lago', 'Felipe Borges', 'Leon Silva']\n",
        "\n",
        "lista_nomes"
      ],
      "metadata": {
        "colab": {
          "base_uri": "https://localhost:8080/"
        },
        "id": "FqxyGh1Fxzbt",
        "outputId": "8ab14dc7-7835-400c-8929-447b9f90b8a0"
      },
      "execution_count": null,
      "outputs": [
        {
          "output_type": "execute_result",
          "data": {
            "text/plain": [
              "['Leo Silva', 'Bernardo Lago', 'Felipe Borges', 'Leon Silva']"
            ]
          },
          "metadata": {},
          "execution_count": 51
        }
      ]
    },
    {
      "cell_type": "code",
      "source": [
        "lista_nomes[0].split() # quando não passo no (), o split separa pelo espaço"
      ],
      "metadata": {
        "colab": {
          "base_uri": "https://localhost:8080/"
        },
        "id": "upZ0JFBuxzYr",
        "outputId": "921789fd-760f-46c0-d188-840d7d28461c"
      },
      "execution_count": null,
      "outputs": [
        {
          "output_type": "execute_result",
          "data": {
            "text/plain": [
              "['Leo', 'Silva']"
            ]
          },
          "metadata": {},
          "execution_count": 54
        }
      ]
    },
    {
      "cell_type": "code",
      "source": [
        "lista_nomes[0].split()[0] # quando quero pegar o primeiro nome da lista"
      ],
      "metadata": {
        "colab": {
          "base_uri": "https://localhost:8080/",
          "height": 35
        },
        "id": "bXn9dxSbxzVk",
        "outputId": "65433180-deb8-46ca-978a-1b43af89fd02"
      },
      "execution_count": null,
      "outputs": [
        {
          "output_type": "execute_result",
          "data": {
            "text/plain": [
              "'Leo'"
            ],
            "application/vnd.google.colaboratory.intrinsic+json": {
              "type": "string"
            }
          },
          "metadata": {},
          "execution_count": 55
        }
      ]
    },
    {
      "cell_type": "code",
      "source": [
        "[nome for nome in lista_nomes] # aqui é uma List Comprehension onde estou pegando cada nome da lista e criando uma lista nova"
      ],
      "metadata": {
        "colab": {
          "base_uri": "https://localhost:8080/"
        },
        "id": "JDwMdAoDxzST",
        "outputId": "ec2d140e-c8d4-48bf-dd79-3b99449915f8"
      },
      "execution_count": null,
      "outputs": [
        {
          "output_type": "execute_result",
          "data": {
            "text/plain": [
              "['Leo Silva', 'Bernardo Lago', 'Felipe Borges', 'Leon Silva']"
            ]
          },
          "metadata": {},
          "execution_count": 56
        }
      ]
    },
    {
      "cell_type": "code",
      "source": [
        "# agora quero criar uma lista só com os primeiros nomes, essa é uma forma redundante com muitas linhas\n",
        "\n",
        "lista_primeiros_nomes = []  # lista dos primeiros nomes\n",
        "\n",
        "for nome in lista_nomes: # iterar sobre o nome de lista\n",
        "  primeiro_nome = nome.split()[0] # aqui busca o primeiro nome da lista\n",
        "  lista_primeiros_nomes.append(primeiro_nome) # aqui pega o primeiro nome\n",
        "\n",
        "lista_primeiros_nomes"
      ],
      "metadata": {
        "colab": {
          "base_uri": "https://localhost:8080/"
        },
        "id": "DvKZKAtFxzHY",
        "outputId": "3676e34e-862e-4ad1-8a47-426ab80a87a5"
      },
      "execution_count": null,
      "outputs": [
        {
          "output_type": "execute_result",
          "data": {
            "text/plain": [
              "['Leo', 'Bernardo', 'Felipe', 'Leon']"
            ]
          },
          "metadata": {},
          "execution_count": 57
        }
      ]
    },
    {
      "cell_type": "code",
      "source": [
        "[nome.split()[0] for nome in lista_nomes]"
      ],
      "metadata": {
        "colab": {
          "base_uri": "https://localhost:8080/"
        },
        "id": "O-Cw00l589_L",
        "outputId": "0c33aa5a-0f28-4a64-fa3b-20b913f889d2"
      },
      "execution_count": null,
      "outputs": [
        {
          "output_type": "execute_result",
          "data": {
            "text/plain": [
              "['Leo', 'Bernardo', 'Felipe', 'Leon']"
            ]
          },
          "metadata": {},
          "execution_count": 60
        }
      ]
    },
    {
      "cell_type": "code",
      "source": [
        "# último nome\n",
        "[nome.split()[-1] for nome in lista_nomes]"
      ],
      "metadata": {
        "colab": {
          "base_uri": "https://localhost:8080/"
        },
        "id": "0R4XPIks9WSf",
        "outputId": "a7a93eaa-8caf-4606-f61e-7b7c4b69272c"
      },
      "execution_count": null,
      "outputs": [
        {
          "output_type": "execute_result",
          "data": {
            "text/plain": [
              "['Silva', 'Lago', 'Borges', 'Silva']"
            ]
          },
          "metadata": {},
          "execution_count": 62
        }
      ]
    },
    {
      "cell_type": "code",
      "source": [
        "# 3 primeiras letras\n",
        "\n",
        "[nome[:3] for nome in lista_nomes]"
      ],
      "metadata": {
        "colab": {
          "base_uri": "https://localhost:8080/"
        },
        "id": "fAKugnn49ozD",
        "outputId": "7996f1a5-87fb-4850-a0e3-415e601a9b36"
      },
      "execution_count": null,
      "outputs": [
        {
          "output_type": "execute_result",
          "data": {
            "text/plain": [
              "['Leo', 'Ber', 'Fel', 'Leo']"
            ]
          },
          "metadata": {},
          "execution_count": 63
        }
      ]
    },
    {
      "cell_type": "code",
      "source": [
        "# finalmente, a parte condicional\n",
        "\n",
        "lista_comida = ['macarronada', 'rabanada',  'bananada', 'camarão','salmão', 'goiabada']"
      ],
      "metadata": {
        "id": "gXFqxD2r-D-O"
      },
      "execution_count": null,
      "outputs": []
    },
    {
      "cell_type": "code",
      "source": [
        "[comida for comida in lista_comida]"
      ],
      "metadata": {
        "colab": {
          "base_uri": "https://localhost:8080/"
        },
        "id": "U263KK6u-3mI",
        "outputId": "e25834cf-f463-40d6-c492-361054345faa"
      },
      "execution_count": null,
      "outputs": [
        {
          "output_type": "execute_result",
          "data": {
            "text/plain": [
              "['macarronada', 'rabanada', 'bananada', 'camarão', 'salmão', 'goiabada']"
            ]
          },
          "metadata": {},
          "execution_count": 67
        }
      ]
    },
    {
      "cell_type": "code",
      "source": [
        "[comida for comida in lista_comida if comida.endswith('ada')]"
      ],
      "metadata": {
        "colab": {
          "base_uri": "https://localhost:8080/"
        },
        "id": "zwNMAXAK_VSH",
        "outputId": "54e0328a-0a5f-498e-cb6c-214d54f7d7fa"
      },
      "execution_count": null,
      "outputs": [
        {
          "output_type": "execute_result",
          "data": {
            "text/plain": [
              "['macarronada', 'rabanada', 'bananada', 'goiabada']"
            ]
          },
          "metadata": {},
          "execution_count": 69
        }
      ]
    },
    {
      "cell_type": "code",
      "source": [
        "[comida for comida in lista_comida if not comida.endswith('ada')]"
      ],
      "metadata": {
        "colab": {
          "base_uri": "https://localhost:8080/"
        },
        "id": "wzJ6IJ-q_K8E",
        "outputId": "c70e4e03-0382-4361-b58c-302b4011512e"
      },
      "execution_count": null,
      "outputs": [
        {
          "output_type": "execute_result",
          "data": {
            "text/plain": [
              "['camarão', 'salmão']"
            ]
          },
          "metadata": {},
          "execution_count": 68
        }
      ]
    },
    {
      "cell_type": "code",
      "source": [
        "[comida for comida in lista_comida if comida.startswith('ra')]"
      ],
      "metadata": {
        "colab": {
          "base_uri": "https://localhost:8080/"
        },
        "id": "l3alrraj_muG",
        "outputId": "02fcbb4f-8233-4729-b104-50e605466e3a"
      },
      "execution_count": null,
      "outputs": [
        {
          "output_type": "execute_result",
          "data": {
            "text/plain": [
              "['rabanada']"
            ]
          },
          "metadata": {},
          "execution_count": 72
        }
      ]
    },
    {
      "cell_type": "code",
      "source": [
        "# exemplo simples\n",
        "dicionario = {'Leon': 42, 'Leo' : 30, 'Bernardo': 33}\n",
        "\n",
        "dicionario"
      ],
      "metadata": {
        "colab": {
          "base_uri": "https://localhost:8080/"
        },
        "id": "l2iJ40sPGjsI",
        "outputId": "85459198-2219-47be-f4f3-865280b1f9fd"
      },
      "execution_count": null,
      "outputs": [
        {
          "output_type": "execute_result",
          "data": {
            "text/plain": [
              "{'Leon': 42, 'Leo': 30, 'Bernardo': 33}"
            ]
          },
          "metadata": {},
          "execution_count": 75
        }
      ]
    },
    {
      "cell_type": "markdown",
      "source": [
        "## Dict Comprehension"
      ],
      "metadata": {
        "id": "THrbpC-RqRrK"
      }
    },
    {
      "cell_type": "code",
      "source": [
        "# exemplo simples\n",
        "\n",
        "dicionario = {'Leon': 42, 'Leo': 30, 'Bernardo':33}"
      ],
      "metadata": {
        "id": "L196PBeJqX2J"
      },
      "execution_count": null,
      "outputs": []
    },
    {
      "cell_type": "code",
      "source": [
        "dicionario ['Leon']"
      ],
      "metadata": {
        "colab": {
          "base_uri": "https://localhost:8080/"
        },
        "id": "-4_uH3iLqvB3",
        "outputId": "fb67de13-778b-4296-8333-de688c0e92c8"
      },
      "execution_count": null,
      "outputs": [
        {
          "output_type": "execute_result",
          "data": {
            "text/plain": [
              "42"
            ]
          },
          "metadata": {},
          "execution_count": 79
        }
      ]
    },
    {
      "cell_type": "code",
      "source": [
        "dicionario ['Bernardo']"
      ],
      "metadata": {
        "colab": {
          "base_uri": "https://localhost:8080/"
        },
        "id": "peAWVmrDqu_B",
        "outputId": "ad9d1c85-9884-4214-c5e5-db8648752ea6"
      },
      "execution_count": null,
      "outputs": [
        {
          "output_type": "execute_result",
          "data": {
            "text/plain": [
              "33"
            ]
          },
          "metadata": {},
          "execution_count": 80
        }
      ]
    },
    {
      "cell_type": "code",
      "source": [
        "lista_nomes = ['Leon', 'Leo', 'Bernardo']\n",
        "lista_idades= [42,30,33]"
      ],
      "metadata": {
        "id": "tzsOgjKlqu74"
      },
      "execution_count": null,
      "outputs": []
    },
    {
      "cell_type": "code",
      "source": [
        "# ZIP para juntar informações de duas listas, para isso é preciso ter os elementos nas mesmas posições para fazer a junção correta\n",
        "\n",
        "for nome, idade in zip (lista_nomes, lista_idades):\n",
        "  print (f'{nome}:{idade}')"
      ],
      "metadata": {
        "colab": {
          "base_uri": "https://localhost:8080/"
        },
        "id": "5U_QDKSqqu45",
        "outputId": "c50e2ee3-a78e-4307-db15-7a49cc63f6d9"
      },
      "execution_count": null,
      "outputs": [
        {
          "output_type": "stream",
          "name": "stdout",
          "text": [
            "Leon:42\n",
            "Leo:30\n",
            "Bernardo:33\n"
          ]
        }
      ]
    },
    {
      "cell_type": "code",
      "source": [
        "# ZIP dentro do DICT COMPREHENSION\n",
        "\n",
        "#Etapas:\n",
        "# 01 - Transformação: nome:idade (chave:valor), nesse caso não houve transformação\n",
        "# 02 - Iteração: for nome, idade in zip (lista_nome, lista_idades)\n",
        "# 03 - Condições (testes): ifnome.startswith ('L')\n",
        "\n",
        "{nome:idade for nome, idade in zip (lista_nomes, lista_idades) if nome.startswith('L')}"
      ],
      "metadata": {
        "colab": {
          "base_uri": "https://localhost:8080/"
        },
        "id": "1vQsnt9Jqu2I",
        "outputId": "8763cfd9-46a5-4296-9373-1e6658d7b740"
      },
      "execution_count": null,
      "outputs": [
        {
          "output_type": "execute_result",
          "data": {
            "text/plain": [
              "{'Leon': 42, 'Leo': 30}"
            ]
          },
          "metadata": {},
          "execution_count": 91
        }
      ]
    },
    {
      "cell_type": "code",
      "source": [
        "{nome:idade for nome, idade in zip (lista_nomes, lista_idades)}"
      ],
      "metadata": {
        "colab": {
          "base_uri": "https://localhost:8080/"
        },
        "id": "9CkIxRZhquzM",
        "outputId": "9b03e778-c2f0-4829-962f-3e3aa1c909bc"
      },
      "execution_count": null,
      "outputs": [
        {
          "output_type": "execute_result",
          "data": {
            "text/plain": [
              "{'Leon': 42, 'Leo': 30, 'Bernardo': 33}"
            ]
          },
          "metadata": {},
          "execution_count": 92
        }
      ]
    },
    {
      "cell_type": "code",
      "source": [
        "lista_frutas = ['banana', 'maça','pera', 'laranja', 'goiaba', 'abacaxi']\n",
        "lista_preços = [10., 5.5, 3.9 , 42.8 , 1.78 , 4.6]"
      ],
      "metadata": {
        "id": "sEYyeR_oquv9"
      },
      "execution_count": null,
      "outputs": []
    },
    {
      "cell_type": "code",
      "source": [
        "dict_frutas = {frutas:preço for frutas, preço in zip (lista_frutas, lista_preços)}\n",
        "\n",
        "dict_frutas"
      ],
      "metadata": {
        "colab": {
          "base_uri": "https://localhost:8080/"
        },
        "id": "cvhKPOs4qunX",
        "outputId": "5ed53ed7-47bd-40c3-ba41-41706d097ed4"
      },
      "execution_count": null,
      "outputs": [
        {
          "output_type": "execute_result",
          "data": {
            "text/plain": [
              "{'banana': 10.0,\n",
              " 'maça': 5.5,\n",
              " 'pera': 3.9,\n",
              " 'laranja': 42.8,\n",
              " 'goiaba': 1.78,\n",
              " 'abacaxi': 4.6}"
            ]
          },
          "metadata": {},
          "execution_count": 104
        }
      ]
    }
  ]
}